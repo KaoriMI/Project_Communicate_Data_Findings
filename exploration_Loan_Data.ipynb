{
 "cells": [
  {
   "cell_type": "markdown",
   "metadata": {},
   "source": [
    "# Loan Data from Prosper Exploration\n",
    "## by Kaori Ishikawa\n",
    "\n",
    "## Preliminary Wrangling\n",
    "\n",
    "This document explores a datasets containing approximately 114,000 loans data from Prosper, a peer-to-peer lending platform, including loan amount, borrower rate, current loan status and so on."
   ]
  },
  {
   "cell_type": "code",
   "execution_count": 306,
   "metadata": {},
   "outputs": [],
   "source": [
    "# import all packages and set plots to be embedded inline\n",
    "import numpy as np\n",
    "import pandas as pd\n",
    "import matplotlib.pyplot as plt\n",
    "import seaborn as sb\n",
    "\n",
    "%matplotlib inline"
   ]
  },
  {
   "cell_type": "markdown",
   "metadata": {},
   "source": [
    "> Load in your dataset and describe its properties through the questions below.\n",
    "Try and motivate your exploration goals through this section."
   ]
  },
  {
   "cell_type": "code",
   "execution_count": 307,
   "metadata": {},
   "outputs": [],
   "source": [
    "# load in the dataset into a pandas dataframe\n",
    "df = pd.read_csv('prosperLoanData.csv')"
   ]
  },
  {
   "cell_type": "code",
   "execution_count": 308,
   "metadata": {},
   "outputs": [],
   "source": [
    "df_loan = df.copy()"
   ]
  },
  {
   "cell_type": "code",
   "execution_count": 309,
   "metadata": {},
   "outputs": [
    {
     "data": {
      "text/html": [
       "<div>\n",
       "<style scoped>\n",
       "    .dataframe tbody tr th:only-of-type {\n",
       "        vertical-align: middle;\n",
       "    }\n",
       "\n",
       "    .dataframe tbody tr th {\n",
       "        vertical-align: top;\n",
       "    }\n",
       "\n",
       "    .dataframe thead th {\n",
       "        text-align: right;\n",
       "    }\n",
       "</style>\n",
       "<table border=\"1\" class=\"dataframe\">\n",
       "  <thead>\n",
       "    <tr style=\"text-align: right;\">\n",
       "      <th></th>\n",
       "      <th>ListingKey</th>\n",
       "      <th>ListingNumber</th>\n",
       "      <th>ListingCreationDate</th>\n",
       "      <th>CreditGrade</th>\n",
       "      <th>Term</th>\n",
       "      <th>LoanStatus</th>\n",
       "      <th>ClosedDate</th>\n",
       "      <th>BorrowerAPR</th>\n",
       "      <th>BorrowerRate</th>\n",
       "      <th>LenderYield</th>\n",
       "      <th>...</th>\n",
       "      <th>LP_ServiceFees</th>\n",
       "      <th>LP_CollectionFees</th>\n",
       "      <th>LP_GrossPrincipalLoss</th>\n",
       "      <th>LP_NetPrincipalLoss</th>\n",
       "      <th>LP_NonPrincipalRecoverypayments</th>\n",
       "      <th>PercentFunded</th>\n",
       "      <th>Recommendations</th>\n",
       "      <th>InvestmentFromFriendsCount</th>\n",
       "      <th>InvestmentFromFriendsAmount</th>\n",
       "      <th>Investors</th>\n",
       "    </tr>\n",
       "  </thead>\n",
       "  <tbody>\n",
       "    <tr>\n",
       "      <th>0</th>\n",
       "      <td>1021339766868145413AB3B</td>\n",
       "      <td>193129</td>\n",
       "      <td>2007-08-26 19:09:29.263000000</td>\n",
       "      <td>C</td>\n",
       "      <td>36</td>\n",
       "      <td>Completed</td>\n",
       "      <td>2009-08-14 00:00:00</td>\n",
       "      <td>0.16516</td>\n",
       "      <td>0.158</td>\n",
       "      <td>0.138</td>\n",
       "      <td>...</td>\n",
       "      <td>-133.18</td>\n",
       "      <td>0.0</td>\n",
       "      <td>0.0</td>\n",
       "      <td>0.0</td>\n",
       "      <td>0.0</td>\n",
       "      <td>1.0</td>\n",
       "      <td>0</td>\n",
       "      <td>0</td>\n",
       "      <td>0.0</td>\n",
       "      <td>258</td>\n",
       "    </tr>\n",
       "  </tbody>\n",
       "</table>\n",
       "<p>1 rows × 81 columns</p>\n",
       "</div>"
      ],
      "text/plain": [
       "                ListingKey  ListingNumber            ListingCreationDate  \\\n",
       "0  1021339766868145413AB3B         193129  2007-08-26 19:09:29.263000000   \n",
       "\n",
       "  CreditGrade  Term LoanStatus           ClosedDate  BorrowerAPR  \\\n",
       "0           C    36  Completed  2009-08-14 00:00:00      0.16516   \n",
       "\n",
       "   BorrowerRate  LenderYield  ...  LP_ServiceFees  LP_CollectionFees  \\\n",
       "0         0.158        0.138  ...         -133.18                0.0   \n",
       "\n",
       "   LP_GrossPrincipalLoss  LP_NetPrincipalLoss LP_NonPrincipalRecoverypayments  \\\n",
       "0                    0.0                  0.0                             0.0   \n",
       "\n",
       "   PercentFunded  Recommendations InvestmentFromFriendsCount  \\\n",
       "0            1.0                0                          0   \n",
       "\n",
       "  InvestmentFromFriendsAmount Investors  \n",
       "0                         0.0       258  \n",
       "\n",
       "[1 rows x 81 columns]"
      ]
     },
     "execution_count": 309,
     "metadata": {},
     "output_type": "execute_result"
    }
   ],
   "source": [
    "df_loan.head(1)"
   ]
  },
  {
   "cell_type": "code",
   "execution_count": 310,
   "metadata": {},
   "outputs": [
    {
     "name": "stdout",
     "output_type": "stream",
     "text": [
      "(113937, 81)\n"
     ]
    },
    {
     "data": {
      "text/html": [
       "<div>\n",
       "<style scoped>\n",
       "    .dataframe tbody tr th:only-of-type {\n",
       "        vertical-align: middle;\n",
       "    }\n",
       "\n",
       "    .dataframe tbody tr th {\n",
       "        vertical-align: top;\n",
       "    }\n",
       "\n",
       "    .dataframe thead th {\n",
       "        text-align: right;\n",
       "    }\n",
       "</style>\n",
       "<table border=\"1\" class=\"dataframe\">\n",
       "  <thead>\n",
       "    <tr style=\"text-align: right;\">\n",
       "      <th></th>\n",
       "      <th>ListingKey</th>\n",
       "      <th>ListingNumber</th>\n",
       "      <th>ListingCreationDate</th>\n",
       "      <th>CreditGrade</th>\n",
       "      <th>Term</th>\n",
       "      <th>LoanStatus</th>\n",
       "      <th>ClosedDate</th>\n",
       "      <th>BorrowerAPR</th>\n",
       "      <th>BorrowerRate</th>\n",
       "      <th>LenderYield</th>\n",
       "      <th>...</th>\n",
       "      <th>LP_ServiceFees</th>\n",
       "      <th>LP_CollectionFees</th>\n",
       "      <th>LP_GrossPrincipalLoss</th>\n",
       "      <th>LP_NetPrincipalLoss</th>\n",
       "      <th>LP_NonPrincipalRecoverypayments</th>\n",
       "      <th>PercentFunded</th>\n",
       "      <th>Recommendations</th>\n",
       "      <th>InvestmentFromFriendsCount</th>\n",
       "      <th>InvestmentFromFriendsAmount</th>\n",
       "      <th>Investors</th>\n",
       "    </tr>\n",
       "  </thead>\n",
       "  <tbody>\n",
       "    <tr>\n",
       "      <th>0</th>\n",
       "      <td>1021339766868145413AB3B</td>\n",
       "      <td>193129</td>\n",
       "      <td>2007-08-26 19:09:29.263000000</td>\n",
       "      <td>C</td>\n",
       "      <td>36</td>\n",
       "      <td>Completed</td>\n",
       "      <td>2009-08-14 00:00:00</td>\n",
       "      <td>0.16516</td>\n",
       "      <td>0.1580</td>\n",
       "      <td>0.1380</td>\n",
       "      <td>...</td>\n",
       "      <td>-133.18</td>\n",
       "      <td>0.0</td>\n",
       "      <td>0.0</td>\n",
       "      <td>0.0</td>\n",
       "      <td>0.0</td>\n",
       "      <td>1.0</td>\n",
       "      <td>0</td>\n",
       "      <td>0</td>\n",
       "      <td>0.0</td>\n",
       "      <td>258</td>\n",
       "    </tr>\n",
       "    <tr>\n",
       "      <th>1</th>\n",
       "      <td>10273602499503308B223C1</td>\n",
       "      <td>1209647</td>\n",
       "      <td>2014-02-27 08:28:07.900000000</td>\n",
       "      <td>NaN</td>\n",
       "      <td>36</td>\n",
       "      <td>Current</td>\n",
       "      <td>NaN</td>\n",
       "      <td>0.12016</td>\n",
       "      <td>0.0920</td>\n",
       "      <td>0.0820</td>\n",
       "      <td>...</td>\n",
       "      <td>0.00</td>\n",
       "      <td>0.0</td>\n",
       "      <td>0.0</td>\n",
       "      <td>0.0</td>\n",
       "      <td>0.0</td>\n",
       "      <td>1.0</td>\n",
       "      <td>0</td>\n",
       "      <td>0</td>\n",
       "      <td>0.0</td>\n",
       "      <td>1</td>\n",
       "    </tr>\n",
       "    <tr>\n",
       "      <th>2</th>\n",
       "      <td>0EE9337825851032864889A</td>\n",
       "      <td>81716</td>\n",
       "      <td>2007-01-05 15:00:47.090000000</td>\n",
       "      <td>HR</td>\n",
       "      <td>36</td>\n",
       "      <td>Completed</td>\n",
       "      <td>2009-12-17 00:00:00</td>\n",
       "      <td>0.28269</td>\n",
       "      <td>0.2750</td>\n",
       "      <td>0.2400</td>\n",
       "      <td>...</td>\n",
       "      <td>-24.20</td>\n",
       "      <td>0.0</td>\n",
       "      <td>0.0</td>\n",
       "      <td>0.0</td>\n",
       "      <td>0.0</td>\n",
       "      <td>1.0</td>\n",
       "      <td>0</td>\n",
       "      <td>0</td>\n",
       "      <td>0.0</td>\n",
       "      <td>41</td>\n",
       "    </tr>\n",
       "    <tr>\n",
       "      <th>3</th>\n",
       "      <td>0EF5356002482715299901A</td>\n",
       "      <td>658116</td>\n",
       "      <td>2012-10-22 11:02:35.010000000</td>\n",
       "      <td>NaN</td>\n",
       "      <td>36</td>\n",
       "      <td>Current</td>\n",
       "      <td>NaN</td>\n",
       "      <td>0.12528</td>\n",
       "      <td>0.0974</td>\n",
       "      <td>0.0874</td>\n",
       "      <td>...</td>\n",
       "      <td>-108.01</td>\n",
       "      <td>0.0</td>\n",
       "      <td>0.0</td>\n",
       "      <td>0.0</td>\n",
       "      <td>0.0</td>\n",
       "      <td>1.0</td>\n",
       "      <td>0</td>\n",
       "      <td>0</td>\n",
       "      <td>0.0</td>\n",
       "      <td>158</td>\n",
       "    </tr>\n",
       "    <tr>\n",
       "      <th>4</th>\n",
       "      <td>0F023589499656230C5E3E2</td>\n",
       "      <td>909464</td>\n",
       "      <td>2013-09-14 18:38:39.097000000</td>\n",
       "      <td>NaN</td>\n",
       "      <td>36</td>\n",
       "      <td>Current</td>\n",
       "      <td>NaN</td>\n",
       "      <td>0.24614</td>\n",
       "      <td>0.2085</td>\n",
       "      <td>0.1985</td>\n",
       "      <td>...</td>\n",
       "      <td>-60.27</td>\n",
       "      <td>0.0</td>\n",
       "      <td>0.0</td>\n",
       "      <td>0.0</td>\n",
       "      <td>0.0</td>\n",
       "      <td>1.0</td>\n",
       "      <td>0</td>\n",
       "      <td>0</td>\n",
       "      <td>0.0</td>\n",
       "      <td>20</td>\n",
       "    </tr>\n",
       "  </tbody>\n",
       "</table>\n",
       "<p>5 rows × 81 columns</p>\n",
       "</div>"
      ],
      "text/plain": [
       "                ListingKey  ListingNumber            ListingCreationDate  \\\n",
       "0  1021339766868145413AB3B         193129  2007-08-26 19:09:29.263000000   \n",
       "1  10273602499503308B223C1        1209647  2014-02-27 08:28:07.900000000   \n",
       "2  0EE9337825851032864889A          81716  2007-01-05 15:00:47.090000000   \n",
       "3  0EF5356002482715299901A         658116  2012-10-22 11:02:35.010000000   \n",
       "4  0F023589499656230C5E3E2         909464  2013-09-14 18:38:39.097000000   \n",
       "\n",
       "  CreditGrade  Term LoanStatus           ClosedDate  BorrowerAPR  \\\n",
       "0           C    36  Completed  2009-08-14 00:00:00      0.16516   \n",
       "1         NaN    36    Current                  NaN      0.12016   \n",
       "2          HR    36  Completed  2009-12-17 00:00:00      0.28269   \n",
       "3         NaN    36    Current                  NaN      0.12528   \n",
       "4         NaN    36    Current                  NaN      0.24614   \n",
       "\n",
       "   BorrowerRate  LenderYield  ...  LP_ServiceFees  LP_CollectionFees  \\\n",
       "0        0.1580       0.1380  ...         -133.18                0.0   \n",
       "1        0.0920       0.0820  ...            0.00                0.0   \n",
       "2        0.2750       0.2400  ...          -24.20                0.0   \n",
       "3        0.0974       0.0874  ...         -108.01                0.0   \n",
       "4        0.2085       0.1985  ...          -60.27                0.0   \n",
       "\n",
       "   LP_GrossPrincipalLoss  LP_NetPrincipalLoss LP_NonPrincipalRecoverypayments  \\\n",
       "0                    0.0                  0.0                             0.0   \n",
       "1                    0.0                  0.0                             0.0   \n",
       "2                    0.0                  0.0                             0.0   \n",
       "3                    0.0                  0.0                             0.0   \n",
       "4                    0.0                  0.0                             0.0   \n",
       "\n",
       "   PercentFunded  Recommendations InvestmentFromFriendsCount  \\\n",
       "0            1.0                0                          0   \n",
       "1            1.0                0                          0   \n",
       "2            1.0                0                          0   \n",
       "3            1.0                0                          0   \n",
       "4            1.0                0                          0   \n",
       "\n",
       "  InvestmentFromFriendsAmount Investors  \n",
       "0                         0.0       258  \n",
       "1                         0.0         1  \n",
       "2                         0.0        41  \n",
       "3                         0.0       158  \n",
       "4                         0.0        20  \n",
       "\n",
       "[5 rows x 81 columns]"
      ]
     },
     "execution_count": 310,
     "metadata": {},
     "output_type": "execute_result"
    }
   ],
   "source": [
    "# Overview of the data shape and composition\n",
    "print(df_loan.shape)\n",
    "df_loan.head(5)"
   ]
  },
  {
   "cell_type": "code",
   "execution_count": 311,
   "metadata": {},
   "outputs": [
    {
     "name": "stdout",
     "output_type": "stream",
     "text": [
      "<class 'pandas.core.frame.DataFrame'>\n",
      "RangeIndex: 113937 entries, 0 to 113936\n",
      "Data columns (total 81 columns):\n",
      " #   Column                               Non-Null Count   Dtype  \n",
      "---  ------                               --------------   -----  \n",
      " 0   ListingKey                           113937 non-null  object \n",
      " 1   ListingNumber                        113937 non-null  int64  \n",
      " 2   ListingCreationDate                  113937 non-null  object \n",
      " 3   CreditGrade                          28953 non-null   object \n",
      " 4   Term                                 113937 non-null  int64  \n",
      " 5   LoanStatus                           113937 non-null  object \n",
      " 6   ClosedDate                           55089 non-null   object \n",
      " 7   BorrowerAPR                          113912 non-null  float64\n",
      " 8   BorrowerRate                         113937 non-null  float64\n",
      " 9   LenderYield                          113937 non-null  float64\n",
      " 10  EstimatedEffectiveYield              84853 non-null   float64\n",
      " 11  EstimatedLoss                        84853 non-null   float64\n",
      " 12  EstimatedReturn                      84853 non-null   float64\n",
      " 13  ProsperRating (numeric)              84853 non-null   float64\n",
      " 14  ProsperRating (Alpha)                84853 non-null   object \n",
      " 15  ProsperScore                         84853 non-null   float64\n",
      " 16  ListingCategory (numeric)            113937 non-null  int64  \n",
      " 17  BorrowerState                        108422 non-null  object \n",
      " 18  Occupation                           110349 non-null  object \n",
      " 19  EmploymentStatus                     111682 non-null  object \n",
      " 20  EmploymentStatusDuration             106312 non-null  float64\n",
      " 21  IsBorrowerHomeowner                  113937 non-null  bool   \n",
      " 22  CurrentlyInGroup                     113937 non-null  bool   \n",
      " 23  GroupKey                             13341 non-null   object \n",
      " 24  DateCreditPulled                     113937 non-null  object \n",
      " 25  CreditScoreRangeLower                113346 non-null  float64\n",
      " 26  CreditScoreRangeUpper                113346 non-null  float64\n",
      " 27  FirstRecordedCreditLine              113240 non-null  object \n",
      " 28  CurrentCreditLines                   106333 non-null  float64\n",
      " 29  OpenCreditLines                      106333 non-null  float64\n",
      " 30  TotalCreditLinespast7years           113240 non-null  float64\n",
      " 31  OpenRevolvingAccounts                113937 non-null  int64  \n",
      " 32  OpenRevolvingMonthlyPayment          113937 non-null  float64\n",
      " 33  InquiriesLast6Months                 113240 non-null  float64\n",
      " 34  TotalInquiries                       112778 non-null  float64\n",
      " 35  CurrentDelinquencies                 113240 non-null  float64\n",
      " 36  AmountDelinquent                     106315 non-null  float64\n",
      " 37  DelinquenciesLast7Years              112947 non-null  float64\n",
      " 38  PublicRecordsLast10Years             113240 non-null  float64\n",
      " 39  PublicRecordsLast12Months            106333 non-null  float64\n",
      " 40  RevolvingCreditBalance               106333 non-null  float64\n",
      " 41  BankcardUtilization                  106333 non-null  float64\n",
      " 42  AvailableBankcardCredit              106393 non-null  float64\n",
      " 43  TotalTrades                          106393 non-null  float64\n",
      " 44  TradesNeverDelinquent (percentage)   106393 non-null  float64\n",
      " 45  TradesOpenedLast6Months              106393 non-null  float64\n",
      " 46  DebtToIncomeRatio                    105383 non-null  float64\n",
      " 47  IncomeRange                          113937 non-null  object \n",
      " 48  IncomeVerifiable                     113937 non-null  bool   \n",
      " 49  StatedMonthlyIncome                  113937 non-null  float64\n",
      " 50  LoanKey                              113937 non-null  object \n",
      " 51  TotalProsperLoans                    22085 non-null   float64\n",
      " 52  TotalProsperPaymentsBilled           22085 non-null   float64\n",
      " 53  OnTimeProsperPayments                22085 non-null   float64\n",
      " 54  ProsperPaymentsLessThanOneMonthLate  22085 non-null   float64\n",
      " 55  ProsperPaymentsOneMonthPlusLate      22085 non-null   float64\n",
      " 56  ProsperPrincipalBorrowed             22085 non-null   float64\n",
      " 57  ProsperPrincipalOutstanding          22085 non-null   float64\n",
      " 58  ScorexChangeAtTimeOfListing          18928 non-null   float64\n",
      " 59  LoanCurrentDaysDelinquent            113937 non-null  int64  \n",
      " 60  LoanFirstDefaultedCycleNumber        16952 non-null   float64\n",
      " 61  LoanMonthsSinceOrigination           113937 non-null  int64  \n",
      " 62  LoanNumber                           113937 non-null  int64  \n",
      " 63  LoanOriginalAmount                   113937 non-null  int64  \n",
      " 64  LoanOriginationDate                  113937 non-null  object \n",
      " 65  LoanOriginationQuarter               113937 non-null  object \n",
      " 66  MemberKey                            113937 non-null  object \n",
      " 67  MonthlyLoanPayment                   113937 non-null  float64\n",
      " 68  LP_CustomerPayments                  113937 non-null  float64\n",
      " 69  LP_CustomerPrincipalPayments         113937 non-null  float64\n",
      " 70  LP_InterestandFees                   113937 non-null  float64\n",
      " 71  LP_ServiceFees                       113937 non-null  float64\n",
      " 72  LP_CollectionFees                    113937 non-null  float64\n",
      " 73  LP_GrossPrincipalLoss                113937 non-null  float64\n",
      " 74  LP_NetPrincipalLoss                  113937 non-null  float64\n",
      " 75  LP_NonPrincipalRecoverypayments      113937 non-null  float64\n",
      " 76  PercentFunded                        113937 non-null  float64\n",
      " 77  Recommendations                      113937 non-null  int64  \n",
      " 78  InvestmentFromFriendsCount           113937 non-null  int64  \n",
      " 79  InvestmentFromFriendsAmount          113937 non-null  float64\n",
      " 80  Investors                            113937 non-null  int64  \n",
      "dtypes: bool(3), float64(50), int64(11), object(17)\n",
      "memory usage: 68.1+ MB\n"
     ]
    }
   ],
   "source": [
    "df_loan.info()"
   ]
  },
  {
   "cell_type": "markdown",
   "metadata": {},
   "source": [
    "### What is the structure of your dataset?\n",
    "\n",
    "There are 113,937 loans in the dataset with 81 features. Most of the variables are numeric in nature, but some should be treated as categorical data (ordinal) such as Prosper Score.\n",
    "\n",
    "\n",
    "### What is/are the main feature(s) of interest in your dataset?\n",
    "\n",
    "I'm most intered in figureing out what factors in the dataset affect Borrower APR. \n",
    "\n",
    "### What features in the dataset do you think will help support your investigation into your feature(s) of interest?\n",
    "\n",
    "I expect that the credit score will have the strongest effect on the loan's outcome. Also, I think that the income ratio of the borrower, ocupation,  \n",
    "As there are many features, I will focus on these features in each nature of features.\n",
    "> -Borrower's credit grade : Prosper rating (numeric)<br>\n",
    "-Borrower's income/asset related data :occupation,  employment status, employment status duration, home owener or not<br>\n",
    "-Borrower's financial related data : Income, dead to income ratio, delinquencies, public records(last 12 moths), percentage of available revolving credit, revolving credit balance<br>\n",
    "-Loan detail : listing category, loan original amount, Borrower's APR<br>"
   ]
  },
  {
   "cell_type": "markdown",
   "metadata": {},
   "source": [
    "## Univariate Exploration\n",
    "\n",
    "> In this section, investigate distributions of individual variables. If\n",
    "you see unusual points or outliers, take a deeper look to clean things up\n",
    "and prepare yourself to look at relationships between variables."
   ]
  },
  {
   "cell_type": "code",
   "execution_count": 312,
   "metadata": {},
   "outputs": [],
   "source": [
    "# drop some features\n",
    "keep_col = ['ListingNumber','LoanStatus', 'ProsperRating (numeric)', 'BorrowerAPR','LoanOriginalAmount','ListingCategory (numeric)', 'EmploymentStatus', 'EmploymentStatusDuration',\n",
    "           'IsBorrowerHomeowner', 'CreditScoreRangeLower','RevolvingCreditBalance', 'BankcardUtilization', 'CurrentDelinquencies', 'AmountDelinquent', 'DelinquenciesLast7Years', 'PublicRecordsLast10Years', 'PublicRecordsLast12Months', 'RevolvingCreditBalance', 'DebtToIncomeRatio', 'IncomeRange', 'StatedMonthlyIncome']\n",
    "df_loan = df_loan[keep_col]"
   ]
  },
  {
   "cell_type": "code",
   "execution_count": 313,
   "metadata": {},
   "outputs": [
    {
     "data": {
      "text/plain": [
       "((113937, 21), (5018, 21))"
      ]
     },
     "execution_count": 313,
     "metadata": {},
     "output_type": "execute_result"
    }
   ],
   "source": [
    "df_loan.shape, df_loan[df_loan.LoanStatus == 'Defaulted'].shape"
   ]
  },
  {
   "cell_type": "markdown",
   "metadata": {},
   "source": [
    "Now I have only 27 columns. Also, this datasets includes 5,018 defaults."
   ]
  },
  {
   "cell_type": "markdown",
   "metadata": {},
   "source": [
    "### Credit grade"
   ]
  },
  {
   "cell_type": "code",
   "execution_count": 314,
   "metadata": {},
   "outputs": [
    {
     "data": {
      "image/png": "[encoded data removed]",
      "text/plain": [
       "<Figure size 432x288 with 1 Axes>"
      ]
     },
     "metadata": {
      "needs_background": "light"
     },
     "output_type": "display_data"
    }
   ],
   "source": [
    "# start with a standard - scaled plot\n",
    "base_color = sb.color_palette()[0]\n",
    "sb.countplot(data = df_loan,  y = 'LoanStatus', color = base_color);"
   ]
  },
  {
   "cell_type": "markdown",
   "metadata": {},
   "source": [
    "Over 50,000 loans are still on going and the completed loans are less than 40,000. Defaulted loans are around 5,000.\n",
    "Also, as the number of past due loans are small, I will make it into one category. And, I will include Final payment in progress in current as well.\n",
    "And, I will removed the cancelled rows as well."
   ]
  },
  {
   "cell_type": "code",
   "execution_count": 315,
   "metadata": {},
   "outputs": [
    {
     "data": {
      "text/plain": [
       "array(['Completed', 'Current', 'Past Due (1-15 days)', 'Defaulted',\n",
       "       'Chargedoff', 'Past Due (16-30 days)', 'Cancelled',\n",
       "       'Past Due (61-90 days)', 'Past Due (31-60 days)',\n",
       "       'Past Due (91-120 days)', 'FinalPaymentInProgress',\n",
       "       'Past Due (>120 days)'], dtype=object)"
      ]
     },
     "execution_count": 315,
     "metadata": {},
     "output_type": "execute_result"
    }
   ],
   "source": [
    "df_loan.LoanStatus.unique()"
   ]
  },
  {
   "cell_type": "code",
   "execution_count": 316,
   "metadata": {},
   "outputs": [],
   "source": [
    "# update data\n",
    "df_loan['LoanStatus'] = df_loan['LoanStatus'].replace({'Past Due (1-15 days)':'Past Due', 'Past Due (16-30 days)':'Past Due', 'Past Due (31-60 days)':'Past Due', 'Past Due (61-90 days)':'Past Due',\n",
    "                                                      'Past Due (91-120 days)':'Past Due', 'Past Due (>120 days)': 'Past Due', 'FinalPaymentInProgress':'Current'})\n"
   ]
  },
  {
   "cell_type": "code",
   "execution_count": 317,
   "metadata": {},
   "outputs": [],
   "source": [
    "# Remove the row with Cancelled data\n",
    "df_loan = df_loan[df_loan['LoanStatus'] != 'Cancelled']"
   ]
  },
  {
   "cell_type": "code",
   "execution_count": 318,
   "metadata": {},
   "outputs": [
    {
     "data": {
      "text/plain": [
       "array(['Completed', 'Current', 'Past Due', 'Defaulted', 'Chargedoff'],\n",
       "      dtype=object)"
      ]
     },
     "execution_count": 318,
     "metadata": {},
     "output_type": "execute_result"
    }
   ],
   "source": [
    "#Check\n",
    "df_loan['LoanStatus'].unique()"
   ]
  },
  {
   "cell_type": "code",
   "execution_count": 319,
   "metadata": {},
   "outputs": [
    {
     "data": {
      "image/png": "[encoded data removed]",
      "text/plain": [
       "<Figure size 432x288 with 1 Axes>"
      ]
     },
     "metadata": {
      "needs_background": "light"
     },
     "output_type": "display_data"
    }
   ],
   "source": [
    "# Re-plot\n",
    "sb.countplot(data = df_loan,  y = 'LoanStatus', color = base_color, order = df_loan.LoanStatus.value_counts().index);"
   ]
  },
  {
   "cell_type": "code",
   "execution_count": 320,
   "metadata": {},
   "outputs": [
    {
     "data": {
      "image/png": "[encoded data removed]",
      "text/plain": [
       "<Figure size 1440x360 with 2 Axes>"
      ]
     },
     "metadata": {
      "needs_background": "light"
     },
     "output_type": "display_data"
    }
   ],
   "source": [
    "# Next, credit grade\n",
    "\n",
    "plt.figure(figsize = [20,5])\n",
    "\n",
    "\n",
    "plt.subplot(1,2,1)\n",
    "sb.countplot(data = df_loan,  x = 'ProsperRating (numeric)', color = base_color)\n",
    "plt.xlabel('Prosper Rating');\n",
    "\n",
    "plt.subplot(1,2,2)\n",
    "bins_csr = np.arange(0,df_loan.CreditScoreRangeLower.max(), 20 )\n",
    "plt.hist(data = df_loan,  x = 'CreditScoreRangeLower', color = base_color, bins = bins_csr)\n",
    "plt.xlabel('Credit Score Range (Lower)');\n",
    "\n"
   ]
  },
  {
   "cell_type": "markdown",
   "metadata": {},
   "source": [
    "Prosper rating (0-7) is slightly left-skewed. Credit score range has sudden increase on the left side of the graph while there is more smooth decline on the right side. As there is no significant difference in "
   ]
  },
  {
   "cell_type": "code",
   "execution_count": 321,
   "metadata": {},
   "outputs": [
    {
     "data": {
      "image/png": "[encoded data removed]",
      "text/plain": [
       "<Figure size 432x288 with 1 Axes>"
      ]
     },
     "metadata": {
      "needs_background": "light"
     },
     "output_type": "display_data"
    }
   ],
   "source": [
    "# Next, employment status\n",
    "sb.countplot(data = df_loan,  y = 'EmploymentStatus', color = base_color);\n",
    "\n"
   ]
  },
  {
   "cell_type": "markdown",
   "metadata": {},
   "source": [
    "Most of the people in the datasets are employed. As Full-time and Part-time category are separated from employed, I will updated them just as emplolyed.  than the avergage or not."
   ]
  },
  {
   "cell_type": "code",
   "execution_count": 322,
   "metadata": {},
   "outputs": [],
   "source": [
    "df_loan['EmploymentStatus'] = df_loan['EmploymentStatus'].replace({'Full-time':'Employed', 'Part-time':'Employed'})"
   ]
  },
  {
   "cell_type": "code",
   "execution_count": 323,
   "metadata": {},
   "outputs": [
    {
     "data": {
      "image/png": "[encoded data removed]",
      "text/plain": [
       "<Figure size 432x288 with 1 Axes>"
      ]
     },
     "metadata": {
      "needs_background": "light"
     },
     "output_type": "display_data"
    }
   ],
   "source": [
    "# re-plot\n",
    "sb.countplot(data = df_loan,  y = 'EmploymentStatus', color = base_color);"
   ]
  },
  {
   "cell_type": "code",
   "execution_count": 324,
   "metadata": {},
   "outputs": [
    {
     "data": {
      "image/png": "[encoded data removed]",
      "text/plain": [
       "<Figure size 432x288 with 1 Axes>"
      ]
     },
     "metadata": {
      "needs_background": "light"
     },
     "output_type": "display_data"
    }
   ],
   "source": [
    "# Next, Home ownership\n",
    "sb.countplot(data = df_loan,  x = 'IsBorrowerHomeowner', color = base_color);\n"
   ]
  },
  {
   "cell_type": "markdown",
   "metadata": {},
   "source": [
    "Almost 50-50."
   ]
  },
  {
   "cell_type": "code",
   "execution_count": 325,
   "metadata": {},
   "outputs": [
    {
     "data": {
      "text/plain": [
       "array(['$25,000-49,999', '$50,000-74,999', 'Not displayed', '$100,000+',\n",
       "       '$75,000-99,999', '$1-24,999', 'Not employed', '$0'], dtype=object)"
      ]
     },
     "execution_count": 325,
     "metadata": {},
     "output_type": "execute_result"
    }
   ],
   "source": [
    "# Next, income\n",
    "df_loan.IncomeRange.unique()"
   ]
  },
  {
   "cell_type": "code",
   "execution_count": 326,
   "metadata": {},
   "outputs": [
    {
     "data": {
      "image/png": "[encoded data removed]",
      "text/plain": [
       "<Figure size 432x288 with 1 Axes>"
      ]
     },
     "metadata": {
      "needs_background": "light"
     },
     "output_type": "display_data"
    }
   ],
   "source": [
    "# Next, income\n",
    "sb.countplot(data = df_loan, x = 'IncomeRange', color = base_color)\n",
    "plt.xticks(rotation = 90);"
   ]
  },
  {
   "cell_type": "markdown",
   "metadata": {},
   "source": [
    "I will include \"not amployed\" in $0, and chaneg not displayed in to NA."
   ]
  },
  {
   "cell_type": "code",
   "execution_count": 327,
   "metadata": {},
   "outputs": [
    {
     "name": "stderr",
     "output_type": "stream",
     "text": [
      "C:\\Users\\Kaori\\anaconda3\\lib\\site-packages\\pandas\\core\\series.py:4569: SettingWithCopyWarning: \n",
      "A value is trying to be set on a copy of a slice from a DataFrame\n",
      "\n",
      "See the caveats in the documentation: https://pandas.pydata.org/pandas-docs/stable/user_guide/indexing.html#returning-a-view-versus-a-copy\n",
      "  method=method,\n"
     ]
    }
   ],
   "source": [
    "df_loan['IncomeRange'].replace('Not displayed',np.nan, inplace = True)"
   ]
  },
  {
   "cell_type": "code",
   "execution_count": 328,
   "metadata": {},
   "outputs": [],
   "source": [
    "df_loan['IncomeRange'].replace('Not employed','$0', inplace = True)"
   ]
  },
  {
   "cell_type": "code",
   "execution_count": 329,
   "metadata": {},
   "outputs": [
    {
     "data": {
      "image/png": "[encoded data removed]",
      "text/plain": [
       "<Figure size 432x288 with 1 Axes>"
      ]
     },
     "metadata": {
      "needs_background": "light"
     },
     "output_type": "display_data"
    }
   ],
   "source": [
    "# plot it again\n",
    "order_inc = ['$0', '$1-24,999', '$25,000-49,999','$50,000-74,999', '$75,000-99,999','$100,000+']\n",
    "sb.countplot(data = df_loan, x = 'IncomeRange', color = base_color, order = order_inc)\n",
    "plt.xticks(rotation = 90);"
   ]
  },
  {
   "cell_type": "code",
   "execution_count": 330,
   "metadata": {},
   "outputs": [
    {
     "data": {
      "text/plain": [
       "count    1.139320e+05\n",
       "mean     5.608157e+03\n",
       "std      7.478629e+03\n",
       "min      0.000000e+00\n",
       "25%      3.200708e+03\n",
       "50%      4.666667e+03\n",
       "75%      6.828417e+03\n",
       "max      1.750003e+06\n",
       "Name: StatedMonthlyIncome, dtype: float64"
      ]
     },
     "execution_count": 330,
     "metadata": {},
     "output_type": "execute_result"
    }
   ],
   "source": [
    "df_loan.StatedMonthlyIncome.describe()"
   ]
  },
  {
   "cell_type": "markdown",
   "metadata": {},
   "source": [
    "It is left skewed and overall, the income of the people borrowing money is relatively high."
   ]
  },
  {
   "cell_type": "code",
   "execution_count": 331,
   "metadata": {},
   "outputs": [
    {
     "data": {
      "image/png": "[encoded data removed]",
      "text/plain": [
       "<Figure size 1440x360 with 1 Axes>"
      ]
     },
     "metadata": {
      "needs_background": "light"
     },
     "output_type": "display_data"
    }
   ],
   "source": [
    "# Next, debt to income racio\n",
    "plt.figure(figsize = [20,5])\n",
    "plt.hist(data = df_loan, x = 'DebtToIncomeRatio', color = base_color, bins = 500);"
   ]
  },
  {
   "cell_type": "markdown",
   "metadata": {},
   "source": [
    "This initial plot show most of the data to the far left of their axies, suggesting some strong outliers on the right.\n",
    "Let's take a look to see if they need to be filtered out of the data."
   ]
  },
  {
   "cell_type": "code",
   "execution_count": 332,
   "metadata": {},
   "outputs": [
    {
     "data": {
      "text/plain": [
       "count    105378.000000\n",
       "mean          0.275952\n",
       "std           0.551771\n",
       "min           0.000000\n",
       "25%           0.140000\n",
       "50%           0.220000\n",
       "75%           0.320000\n",
       "max          10.010000\n",
       "Name: DebtToIncomeRatio, dtype: float64"
      ]
     },
     "execution_count": 332,
     "metadata": {},
     "output_type": "execute_result"
    }
   ],
   "source": [
    "df_loan.DebtToIncomeRatio.describe()"
   ]
  },
  {
   "cell_type": "code",
   "execution_count": 333,
   "metadata": {},
   "outputs": [
    {
     "name": "stdout",
     "output_type": "stream",
     "text": [
      "555\n"
     ]
    },
    {
     "data": {
      "text/html": [
       "<div>\n",
       "<style scoped>\n",
       "    .dataframe tbody tr th:only-of-type {\n",
       "        vertical-align: middle;\n",
       "    }\n",
       "\n",
       "    .dataframe tbody tr th {\n",
       "        vertical-align: top;\n",
       "    }\n",
       "\n",
       "    .dataframe thead th {\n",
       "        text-align: right;\n",
       "    }\n",
       "</style>\n",
       "<table border=\"1\" class=\"dataframe\">\n",
       "  <thead>\n",
       "    <tr style=\"text-align: right;\">\n",
       "      <th></th>\n",
       "      <th>ListingNumber</th>\n",
       "      <th>LoanStatus</th>\n",
       "      <th>ProsperRating (numeric)</th>\n",
       "      <th>BorrowerAPR</th>\n",
       "      <th>LoanOriginalAmount</th>\n",
       "      <th>ListingCategory (numeric)</th>\n",
       "      <th>EmploymentStatus</th>\n",
       "      <th>EmploymentStatusDuration</th>\n",
       "      <th>IsBorrowerHomeowner</th>\n",
       "      <th>CreditScoreRangeLower</th>\n",
       "      <th>...</th>\n",
       "      <th>BankcardUtilization</th>\n",
       "      <th>CurrentDelinquencies</th>\n",
       "      <th>AmountDelinquent</th>\n",
       "      <th>DelinquenciesLast7Years</th>\n",
       "      <th>PublicRecordsLast10Years</th>\n",
       "      <th>PublicRecordsLast12Months</th>\n",
       "      <th>RevolvingCreditBalance</th>\n",
       "      <th>DebtToIncomeRatio</th>\n",
       "      <th>IncomeRange</th>\n",
       "      <th>StatedMonthlyIncome</th>\n",
       "    </tr>\n",
       "  </thead>\n",
       "  <tbody>\n",
       "    <tr>\n",
       "      <th>22</th>\n",
       "      <td>706927</td>\n",
       "      <td>Current</td>\n",
       "      <td>1.0</td>\n",
       "      <td>0.35356</td>\n",
       "      <td>4000</td>\n",
       "      <td>1</td>\n",
       "      <td>Other</td>\n",
       "      <td>68.0</td>\n",
       "      <td>False</td>\n",
       "      <td>700.0</td>\n",
       "      <td>...</td>\n",
       "      <td>0.40</td>\n",
       "      <td>0.0</td>\n",
       "      <td>0.0</td>\n",
       "      <td>0.0</td>\n",
       "      <td>1.0</td>\n",
       "      <td>0.0</td>\n",
       "      <td>10050.0</td>\n",
       "      <td>9.20</td>\n",
       "      <td>$1-24,999</td>\n",
       "      <td>118.333333</td>\n",
       "    </tr>\n",
       "    <tr>\n",
       "      <th>226</th>\n",
       "      <td>104542</td>\n",
       "      <td>Completed</td>\n",
       "      <td>NaN</td>\n",
       "      <td>0.11749</td>\n",
       "      <td>1000</td>\n",
       "      <td>0</td>\n",
       "      <td>Employed</td>\n",
       "      <td>9.0</td>\n",
       "      <td>True</td>\n",
       "      <td>600.0</td>\n",
       "      <td>...</td>\n",
       "      <td>0.61</td>\n",
       "      <td>0.0</td>\n",
       "      <td>0.0</td>\n",
       "      <td>0.0</td>\n",
       "      <td>0.0</td>\n",
       "      <td>0.0</td>\n",
       "      <td>152934.0</td>\n",
       "      <td>10.01</td>\n",
       "      <td>Not displayed</td>\n",
       "      <td>0.083333</td>\n",
       "    </tr>\n",
       "    <tr>\n",
       "      <th>368</th>\n",
       "      <td>128819</td>\n",
       "      <td>Completed</td>\n",
       "      <td>NaN</td>\n",
       "      <td>0.20735</td>\n",
       "      <td>16000</td>\n",
       "      <td>0</td>\n",
       "      <td>Employed</td>\n",
       "      <td>7.0</td>\n",
       "      <td>False</td>\n",
       "      <td>660.0</td>\n",
       "      <td>...</td>\n",
       "      <td>0.56</td>\n",
       "      <td>0.0</td>\n",
       "      <td>0.0</td>\n",
       "      <td>0.0</td>\n",
       "      <td>0.0</td>\n",
       "      <td>0.0</td>\n",
       "      <td>9398.0</td>\n",
       "      <td>1.65</td>\n",
       "      <td>$1-24,999</td>\n",
       "      <td>1083.333333</td>\n",
       "    </tr>\n",
       "    <tr>\n",
       "      <th>576</th>\n",
       "      <td>124494</td>\n",
       "      <td>Completed</td>\n",
       "      <td>NaN</td>\n",
       "      <td>0.10505</td>\n",
       "      <td>1500</td>\n",
       "      <td>0</td>\n",
       "      <td>Retired</td>\n",
       "      <td>65.0</td>\n",
       "      <td>False</td>\n",
       "      <td>800.0</td>\n",
       "      <td>...</td>\n",
       "      <td>0.04</td>\n",
       "      <td>0.0</td>\n",
       "      <td>0.0</td>\n",
       "      <td>0.0</td>\n",
       "      <td>0.0</td>\n",
       "      <td>0.0</td>\n",
       "      <td>1772.0</td>\n",
       "      <td>10.01</td>\n",
       "      <td>$1-24,999</td>\n",
       "      <td>0.083333</td>\n",
       "    </tr>\n",
       "    <tr>\n",
       "      <th>626</th>\n",
       "      <td>560943</td>\n",
       "      <td>Current</td>\n",
       "      <td>1.0</td>\n",
       "      <td>0.35797</td>\n",
       "      <td>2000</td>\n",
       "      <td>1</td>\n",
       "      <td>Employed</td>\n",
       "      <td>51.0</td>\n",
       "      <td>False</td>\n",
       "      <td>700.0</td>\n",
       "      <td>...</td>\n",
       "      <td>0.47</td>\n",
       "      <td>1.0</td>\n",
       "      <td>378.0</td>\n",
       "      <td>0.0</td>\n",
       "      <td>0.0</td>\n",
       "      <td>0.0</td>\n",
       "      <td>4445.0</td>\n",
       "      <td>10.01</td>\n",
       "      <td>$1-24,999</td>\n",
       "      <td>3.833333</td>\n",
       "    </tr>\n",
       "    <tr>\n",
       "      <th>...</th>\n",
       "      <td>...</td>\n",
       "      <td>...</td>\n",
       "      <td>...</td>\n",
       "      <td>...</td>\n",
       "      <td>...</td>\n",
       "      <td>...</td>\n",
       "      <td>...</td>\n",
       "      <td>...</td>\n",
       "      <td>...</td>\n",
       "      <td>...</td>\n",
       "      <td>...</td>\n",
       "      <td>...</td>\n",
       "      <td>...</td>\n",
       "      <td>...</td>\n",
       "      <td>...</td>\n",
       "      <td>...</td>\n",
       "      <td>...</td>\n",
       "      <td>...</td>\n",
       "      <td>...</td>\n",
       "      <td>...</td>\n",
       "      <td>...</td>\n",
       "    </tr>\n",
       "    <tr>\n",
       "      <th>113258</th>\n",
       "      <td>627138</td>\n",
       "      <td>Defaulted</td>\n",
       "      <td>4.0</td>\n",
       "      <td>0.27554</td>\n",
       "      <td>4000</td>\n",
       "      <td>2</td>\n",
       "      <td>Employed</td>\n",
       "      <td>172.0</td>\n",
       "      <td>True</td>\n",
       "      <td>780.0</td>\n",
       "      <td>...</td>\n",
       "      <td>0.58</td>\n",
       "      <td>0.0</td>\n",
       "      <td>0.0</td>\n",
       "      <td>9.0</td>\n",
       "      <td>0.0</td>\n",
       "      <td>0.0</td>\n",
       "      <td>10742.0</td>\n",
       "      <td>10.01</td>\n",
       "      <td>$1-24,999</td>\n",
       "      <td>2.916667</td>\n",
       "    </tr>\n",
       "    <tr>\n",
       "      <th>113367</th>\n",
       "      <td>827764</td>\n",
       "      <td>Completed</td>\n",
       "      <td>1.0</td>\n",
       "      <td>0.35356</td>\n",
       "      <td>2000</td>\n",
       "      <td>13</td>\n",
       "      <td>Other</td>\n",
       "      <td>20.0</td>\n",
       "      <td>True</td>\n",
       "      <td>660.0</td>\n",
       "      <td>...</td>\n",
       "      <td>0.64</td>\n",
       "      <td>0.0</td>\n",
       "      <td>0.0</td>\n",
       "      <td>0.0</td>\n",
       "      <td>0.0</td>\n",
       "      <td>0.0</td>\n",
       "      <td>8988.0</td>\n",
       "      <td>2.53</td>\n",
       "      <td>$1-24,999</td>\n",
       "      <td>500.000000</td>\n",
       "    </tr>\n",
       "    <tr>\n",
       "      <th>113387</th>\n",
       "      <td>485381</td>\n",
       "      <td>Completed</td>\n",
       "      <td>1.0</td>\n",
       "      <td>0.39153</td>\n",
       "      <td>1500</td>\n",
       "      <td>7</td>\n",
       "      <td>Employed</td>\n",
       "      <td>45.0</td>\n",
       "      <td>True</td>\n",
       "      <td>720.0</td>\n",
       "      <td>...</td>\n",
       "      <td>0.06</td>\n",
       "      <td>0.0</td>\n",
       "      <td>0.0</td>\n",
       "      <td>14.0</td>\n",
       "      <td>1.0</td>\n",
       "      <td>0.0</td>\n",
       "      <td>1447.0</td>\n",
       "      <td>2.38</td>\n",
       "      <td>$25,000-49,999</td>\n",
       "      <td>4000.000000</td>\n",
       "    </tr>\n",
       "    <tr>\n",
       "      <th>113407</th>\n",
       "      <td>274103</td>\n",
       "      <td>Completed</td>\n",
       "      <td>NaN</td>\n",
       "      <td>0.25163</td>\n",
       "      <td>1386</td>\n",
       "      <td>4</td>\n",
       "      <td>Employed</td>\n",
       "      <td>25.0</td>\n",
       "      <td>True</td>\n",
       "      <td>640.0</td>\n",
       "      <td>...</td>\n",
       "      <td>0.37</td>\n",
       "      <td>0.0</td>\n",
       "      <td>0.0</td>\n",
       "      <td>2.0</td>\n",
       "      <td>0.0</td>\n",
       "      <td>0.0</td>\n",
       "      <td>725.0</td>\n",
       "      <td>2.16</td>\n",
       "      <td>$1-24,999</td>\n",
       "      <td>233.333333</td>\n",
       "    </tr>\n",
       "    <tr>\n",
       "      <th>113626</th>\n",
       "      <td>31681</td>\n",
       "      <td>Completed</td>\n",
       "      <td>NaN</td>\n",
       "      <td>0.17722</td>\n",
       "      <td>25000</td>\n",
       "      <td>0</td>\n",
       "      <td>NaN</td>\n",
       "      <td>NaN</td>\n",
       "      <td>False</td>\n",
       "      <td>720.0</td>\n",
       "      <td>...</td>\n",
       "      <td>NaN</td>\n",
       "      <td>0.0</td>\n",
       "      <td>NaN</td>\n",
       "      <td>0.0</td>\n",
       "      <td>0.0</td>\n",
       "      <td>NaN</td>\n",
       "      <td>NaN</td>\n",
       "      <td>10.01</td>\n",
       "      <td>Not displayed</td>\n",
       "      <td>0.083333</td>\n",
       "    </tr>\n",
       "  </tbody>\n",
       "</table>\n",
       "<p>555 rows × 21 columns</p>\n",
       "</div>"
      ],
      "text/plain": [
       "        ListingNumber LoanStatus  ProsperRating (numeric)  BorrowerAPR  \\\n",
       "22             706927    Current                      1.0      0.35356   \n",
       "226            104542  Completed                      NaN      0.11749   \n",
       "368            128819  Completed                      NaN      0.20735   \n",
       "576            124494  Completed                      NaN      0.10505   \n",
       "626            560943    Current                      1.0      0.35797   \n",
       "...               ...        ...                      ...          ...   \n",
       "113258         627138  Defaulted                      4.0      0.27554   \n",
       "113367         827764  Completed                      1.0      0.35356   \n",
       "113387         485381  Completed                      1.0      0.39153   \n",
       "113407         274103  Completed                      NaN      0.25163   \n",
       "113626          31681  Completed                      NaN      0.17722   \n",
       "\n",
       "        LoanOriginalAmount  ListingCategory (numeric) EmploymentStatus  \\\n",
       "22                    4000                          1            Other   \n",
       "226                   1000                          0         Employed   \n",
       "368                  16000                          0         Employed   \n",
       "576                   1500                          0          Retired   \n",
       "626                   2000                          1         Employed   \n",
       "...                    ...                        ...              ...   \n",
       "113258                4000                          2         Employed   \n",
       "113367                2000                         13            Other   \n",
       "113387                1500                          7         Employed   \n",
       "113407                1386                          4         Employed   \n",
       "113626               25000                          0              NaN   \n",
       "\n",
       "        EmploymentStatusDuration  IsBorrowerHomeowner  CreditScoreRangeLower  \\\n",
       "22                          68.0                False                  700.0   \n",
       "226                          9.0                 True                  600.0   \n",
       "368                          7.0                False                  660.0   \n",
       "576                         65.0                False                  800.0   \n",
       "626                         51.0                False                  700.0   \n",
       "...                          ...                  ...                    ...   \n",
       "113258                     172.0                 True                  780.0   \n",
       "113367                      20.0                 True                  660.0   \n",
       "113387                      45.0                 True                  720.0   \n",
       "113407                      25.0                 True                  640.0   \n",
       "113626                       NaN                False                  720.0   \n",
       "\n",
       "        ...  BankcardUtilization  CurrentDelinquencies  AmountDelinquent  \\\n",
       "22      ...                 0.40                   0.0               0.0   \n",
       "226     ...                 0.61                   0.0               0.0   \n",
       "368     ...                 0.56                   0.0               0.0   \n",
       "576     ...                 0.04                   0.0               0.0   \n",
       "626     ...                 0.47                   1.0             378.0   \n",
       "...     ...                  ...                   ...               ...   \n",
       "113258  ...                 0.58                   0.0               0.0   \n",
       "113367  ...                 0.64                   0.0               0.0   \n",
       "113387  ...                 0.06                   0.0               0.0   \n",
       "113407  ...                 0.37                   0.0               0.0   \n",
       "113626  ...                  NaN                   0.0               NaN   \n",
       "\n",
       "        DelinquenciesLast7Years  PublicRecordsLast10Years  \\\n",
       "22                          0.0                       1.0   \n",
       "226                         0.0                       0.0   \n",
       "368                         0.0                       0.0   \n",
       "576                         0.0                       0.0   \n",
       "626                         0.0                       0.0   \n",
       "...                         ...                       ...   \n",
       "113258                      9.0                       0.0   \n",
       "113367                      0.0                       0.0   \n",
       "113387                     14.0                       1.0   \n",
       "113407                      2.0                       0.0   \n",
       "113626                      0.0                       0.0   \n",
       "\n",
       "        PublicRecordsLast12Months  RevolvingCreditBalance  DebtToIncomeRatio  \\\n",
       "22                            0.0                 10050.0               9.20   \n",
       "226                           0.0                152934.0              10.01   \n",
       "368                           0.0                  9398.0               1.65   \n",
       "576                           0.0                  1772.0              10.01   \n",
       "626                           0.0                  4445.0              10.01   \n",
       "...                           ...                     ...                ...   \n",
       "113258                        0.0                 10742.0              10.01   \n",
       "113367                        0.0                  8988.0               2.53   \n",
       "113387                        0.0                  1447.0               2.38   \n",
       "113407                        0.0                   725.0               2.16   \n",
       "113626                        NaN                     NaN              10.01   \n",
       "\n",
       "           IncomeRange StatedMonthlyIncome  \n",
       "22           $1-24,999          118.333333  \n",
       "226      Not displayed            0.083333  \n",
       "368          $1-24,999         1083.333333  \n",
       "576          $1-24,999            0.083333  \n",
       "626          $1-24,999            3.833333  \n",
       "...                ...                 ...  \n",
       "113258       $1-24,999            2.916667  \n",
       "113367       $1-24,999          500.000000  \n",
       "113387  $25,000-49,999         4000.000000  \n",
       "113407       $1-24,999          233.333333  \n",
       "113626   Not displayed            0.083333  \n",
       "\n",
       "[555 rows x 21 columns]"
      ]
     },
     "execution_count": 333,
     "metadata": {},
     "output_type": "execute_result"
    }
   ],
   "source": [
    "# Select high outliers, using criteria eyeballed from the plot.\n",
    "\n",
    "outliers = (df_loan['DebtToIncomeRatio'] > 1.5)\n",
    "print(outliers.sum())\n",
    "df_loan.loc[outliers, :]"
   ]
  },
  {
   "cell_type": "markdown",
   "metadata": {},
   "source": [
    "I see suspecious StatedMonthlyIncome of 0.083333."
   ]
  },
  {
   "cell_type": "code",
   "execution_count": 334,
   "metadata": {},
   "outputs": [
    {
     "data": {
      "image/png": "[encoded data removed]",
      "text/plain": [
       "<Figure size 1800x360 with 1 Axes>"
      ]
     },
     "metadata": {
      "needs_background": "light"
     },
     "output_type": "display_data"
    }
   ],
   "source": [
    "# plot the income of people with higher than \n",
    "plt.figure(figsize = [25,5])\n",
    "plt.hist(data = df_loan.loc[outliers, :], x = 'StatedMonthlyIncome', bins = 100)\n",
    "plt.xticks(np.arange(0, df_loan.loc[outliers, :].StatedMonthlyIncome.max(), 1000));\n",
    "\n"
   ]
  },
  {
   "cell_type": "code",
   "execution_count": 335,
   "metadata": {},
   "outputs": [
    {
     "data": {
      "text/html": [
       "<div>\n",
       "<style scoped>\n",
       "    .dataframe tbody tr th:only-of-type {\n",
       "        vertical-align: middle;\n",
       "    }\n",
       "\n",
       "    .dataframe tbody tr th {\n",
       "        vertical-align: top;\n",
       "    }\n",
       "\n",
       "    .dataframe thead th {\n",
       "        text-align: right;\n",
       "    }\n",
       "</style>\n",
       "<table border=\"1\" class=\"dataframe\">\n",
       "  <thead>\n",
       "    <tr style=\"text-align: right;\">\n",
       "      <th></th>\n",
       "      <th>ListingNumber</th>\n",
       "      <th>LoanStatus</th>\n",
       "      <th>ProsperRating (numeric)</th>\n",
       "      <th>BorrowerAPR</th>\n",
       "      <th>LoanOriginalAmount</th>\n",
       "      <th>ListingCategory (numeric)</th>\n",
       "      <th>EmploymentStatus</th>\n",
       "      <th>EmploymentStatusDuration</th>\n",
       "      <th>IsBorrowerHomeowner</th>\n",
       "      <th>CreditScoreRangeLower</th>\n",
       "      <th>...</th>\n",
       "      <th>BankcardUtilization</th>\n",
       "      <th>CurrentDelinquencies</th>\n",
       "      <th>AmountDelinquent</th>\n",
       "      <th>DelinquenciesLast7Years</th>\n",
       "      <th>PublicRecordsLast10Years</th>\n",
       "      <th>PublicRecordsLast12Months</th>\n",
       "      <th>RevolvingCreditBalance</th>\n",
       "      <th>DebtToIncomeRatio</th>\n",
       "      <th>IncomeRange</th>\n",
       "      <th>StatedMonthlyIncome</th>\n",
       "    </tr>\n",
       "  </thead>\n",
       "  <tbody>\n",
       "    <tr>\n",
       "      <th>78</th>\n",
       "      <td>359657</td>\n",
       "      <td>Chargedoff</td>\n",
       "      <td>NaN</td>\n",
       "      <td>0.18454</td>\n",
       "      <td>4800</td>\n",
       "      <td>3</td>\n",
       "      <td>Employed</td>\n",
       "      <td>68.0</td>\n",
       "      <td>True</td>\n",
       "      <td>720.0</td>\n",
       "      <td>...</td>\n",
       "      <td>0.73</td>\n",
       "      <td>0.0</td>\n",
       "      <td>0.0</td>\n",
       "      <td>0.0</td>\n",
       "      <td>0.0</td>\n",
       "      <td>0.0</td>\n",
       "      <td>33572.0</td>\n",
       "      <td>NaN</td>\n",
       "      <td>$0</td>\n",
       "      <td>0.000000</td>\n",
       "    </tr>\n",
       "    <tr>\n",
       "      <th>100</th>\n",
       "      <td>704916</td>\n",
       "      <td>Chargedoff</td>\n",
       "      <td>1.0</td>\n",
       "      <td>0.35356</td>\n",
       "      <td>4000</td>\n",
       "      <td>13</td>\n",
       "      <td>Not employed</td>\n",
       "      <td>12.0</td>\n",
       "      <td>False</td>\n",
       "      <td>720.0</td>\n",
       "      <td>...</td>\n",
       "      <td>0.22</td>\n",
       "      <td>0.0</td>\n",
       "      <td>0.0</td>\n",
       "      <td>0.0</td>\n",
       "      <td>0.0</td>\n",
       "      <td>0.0</td>\n",
       "      <td>5641.0</td>\n",
       "      <td>NaN</td>\n",
       "      <td>Not employed</td>\n",
       "      <td>0.000000</td>\n",
       "    </tr>\n",
       "    <tr>\n",
       "      <th>108</th>\n",
       "      <td>321000</td>\n",
       "      <td>Completed</td>\n",
       "      <td>NaN</td>\n",
       "      <td>0.28320</td>\n",
       "      <td>14000</td>\n",
       "      <td>1</td>\n",
       "      <td>Employed</td>\n",
       "      <td>27.0</td>\n",
       "      <td>False</td>\n",
       "      <td>640.0</td>\n",
       "      <td>...</td>\n",
       "      <td>0.79</td>\n",
       "      <td>0.0</td>\n",
       "      <td>0.0</td>\n",
       "      <td>0.0</td>\n",
       "      <td>0.0</td>\n",
       "      <td>0.0</td>\n",
       "      <td>6850.0</td>\n",
       "      <td>NaN</td>\n",
       "      <td>$0</td>\n",
       "      <td>0.000000</td>\n",
       "    </tr>\n",
       "    <tr>\n",
       "      <th>125</th>\n",
       "      <td>506130</td>\n",
       "      <td>Current</td>\n",
       "      <td>2.0</td>\n",
       "      <td>0.35643</td>\n",
       "      <td>5000</td>\n",
       "      <td>7</td>\n",
       "      <td>Not employed</td>\n",
       "      <td>8.0</td>\n",
       "      <td>False</td>\n",
       "      <td>640.0</td>\n",
       "      <td>...</td>\n",
       "      <td>0.98</td>\n",
       "      <td>0.0</td>\n",
       "      <td>0.0</td>\n",
       "      <td>0.0</td>\n",
       "      <td>0.0</td>\n",
       "      <td>0.0</td>\n",
       "      <td>10425.0</td>\n",
       "      <td>NaN</td>\n",
       "      <td>Not employed</td>\n",
       "      <td>0.000000</td>\n",
       "    </tr>\n",
       "    <tr>\n",
       "      <th>146</th>\n",
       "      <td>31745</td>\n",
       "      <td>Completed</td>\n",
       "      <td>NaN</td>\n",
       "      <td>0.09939</td>\n",
       "      <td>4000</td>\n",
       "      <td>0</td>\n",
       "      <td>NaN</td>\n",
       "      <td>NaN</td>\n",
       "      <td>False</td>\n",
       "      <td>740.0</td>\n",
       "      <td>...</td>\n",
       "      <td>NaN</td>\n",
       "      <td>0.0</td>\n",
       "      <td>NaN</td>\n",
       "      <td>0.0</td>\n",
       "      <td>0.0</td>\n",
       "      <td>NaN</td>\n",
       "      <td>NaN</td>\n",
       "      <td>0.07</td>\n",
       "      <td>Not displayed</td>\n",
       "      <td>0.083333</td>\n",
       "    </tr>\n",
       "    <tr>\n",
       "      <th>...</th>\n",
       "      <td>...</td>\n",
       "      <td>...</td>\n",
       "      <td>...</td>\n",
       "      <td>...</td>\n",
       "      <td>...</td>\n",
       "      <td>...</td>\n",
       "      <td>...</td>\n",
       "      <td>...</td>\n",
       "      <td>...</td>\n",
       "      <td>...</td>\n",
       "      <td>...</td>\n",
       "      <td>...</td>\n",
       "      <td>...</td>\n",
       "      <td>...</td>\n",
       "      <td>...</td>\n",
       "      <td>...</td>\n",
       "      <td>...</td>\n",
       "      <td>...</td>\n",
       "      <td>...</td>\n",
       "      <td>...</td>\n",
       "      <td>...</td>\n",
       "    </tr>\n",
       "    <tr>\n",
       "      <th>113686</th>\n",
       "      <td>244319</td>\n",
       "      <td>Completed</td>\n",
       "      <td>NaN</td>\n",
       "      <td>0.21588</td>\n",
       "      <td>14900</td>\n",
       "      <td>0</td>\n",
       "      <td>Employed</td>\n",
       "      <td>26.0</td>\n",
       "      <td>False</td>\n",
       "      <td>740.0</td>\n",
       "      <td>...</td>\n",
       "      <td>0.02</td>\n",
       "      <td>0.0</td>\n",
       "      <td>0.0</td>\n",
       "      <td>0.0</td>\n",
       "      <td>0.0</td>\n",
       "      <td>0.0</td>\n",
       "      <td>361.0</td>\n",
       "      <td>NaN</td>\n",
       "      <td>$0</td>\n",
       "      <td>0.000000</td>\n",
       "    </tr>\n",
       "    <tr>\n",
       "      <th>113761</th>\n",
       "      <td>580125</td>\n",
       "      <td>Current</td>\n",
       "      <td>6.0</td>\n",
       "      <td>0.16151</td>\n",
       "      <td>7000</td>\n",
       "      <td>1</td>\n",
       "      <td>Not employed</td>\n",
       "      <td>5.0</td>\n",
       "      <td>False</td>\n",
       "      <td>720.0</td>\n",
       "      <td>...</td>\n",
       "      <td>0.38</td>\n",
       "      <td>0.0</td>\n",
       "      <td>0.0</td>\n",
       "      <td>0.0</td>\n",
       "      <td>0.0</td>\n",
       "      <td>0.0</td>\n",
       "      <td>9595.0</td>\n",
       "      <td>NaN</td>\n",
       "      <td>Not employed</td>\n",
       "      <td>0.000000</td>\n",
       "    </tr>\n",
       "    <tr>\n",
       "      <th>113766</th>\n",
       "      <td>579432</td>\n",
       "      <td>Current</td>\n",
       "      <td>6.0</td>\n",
       "      <td>0.12427</td>\n",
       "      <td>4500</td>\n",
       "      <td>19</td>\n",
       "      <td>Not employed</td>\n",
       "      <td>11.0</td>\n",
       "      <td>False</td>\n",
       "      <td>720.0</td>\n",
       "      <td>...</td>\n",
       "      <td>0.51</td>\n",
       "      <td>0.0</td>\n",
       "      <td>0.0</td>\n",
       "      <td>0.0</td>\n",
       "      <td>0.0</td>\n",
       "      <td>0.0</td>\n",
       "      <td>10092.0</td>\n",
       "      <td>NaN</td>\n",
       "      <td>Not employed</td>\n",
       "      <td>0.000000</td>\n",
       "    </tr>\n",
       "    <tr>\n",
       "      <th>113767</th>\n",
       "      <td>269403</td>\n",
       "      <td>Chargedoff</td>\n",
       "      <td>NaN</td>\n",
       "      <td>0.36945</td>\n",
       "      <td>5000</td>\n",
       "      <td>3</td>\n",
       "      <td>Self-employed</td>\n",
       "      <td>22.0</td>\n",
       "      <td>False</td>\n",
       "      <td>520.0</td>\n",
       "      <td>...</td>\n",
       "      <td>0.00</td>\n",
       "      <td>2.0</td>\n",
       "      <td>503.0</td>\n",
       "      <td>0.0</td>\n",
       "      <td>4.0</td>\n",
       "      <td>0.0</td>\n",
       "      <td>0.0</td>\n",
       "      <td>NaN</td>\n",
       "      <td>$0</td>\n",
       "      <td>0.000000</td>\n",
       "    </tr>\n",
       "    <tr>\n",
       "      <th>113803</th>\n",
       "      <td>376274</td>\n",
       "      <td>Defaulted</td>\n",
       "      <td>NaN</td>\n",
       "      <td>0.11293</td>\n",
       "      <td>5000</td>\n",
       "      <td>7</td>\n",
       "      <td>Self-employed</td>\n",
       "      <td>34.0</td>\n",
       "      <td>True</td>\n",
       "      <td>680.0</td>\n",
       "      <td>...</td>\n",
       "      <td>0.57</td>\n",
       "      <td>1.0</td>\n",
       "      <td>0.0</td>\n",
       "      <td>0.0</td>\n",
       "      <td>0.0</td>\n",
       "      <td>0.0</td>\n",
       "      <td>26535.0</td>\n",
       "      <td>NaN</td>\n",
       "      <td>$0</td>\n",
       "      <td>0.000000</td>\n",
       "    </tr>\n",
       "  </tbody>\n",
       "</table>\n",
       "<p>1644 rows × 21 columns</p>\n",
       "</div>"
      ],
      "text/plain": [
       "        ListingNumber  LoanStatus  ProsperRating (numeric)  BorrowerAPR  \\\n",
       "78             359657  Chargedoff                      NaN      0.18454   \n",
       "100            704916  Chargedoff                      1.0      0.35356   \n",
       "108            321000   Completed                      NaN      0.28320   \n",
       "125            506130     Current                      2.0      0.35643   \n",
       "146             31745   Completed                      NaN      0.09939   \n",
       "...               ...         ...                      ...          ...   \n",
       "113686         244319   Completed                      NaN      0.21588   \n",
       "113761         580125     Current                      6.0      0.16151   \n",
       "113766         579432     Current                      6.0      0.12427   \n",
       "113767         269403  Chargedoff                      NaN      0.36945   \n",
       "113803         376274   Defaulted                      NaN      0.11293   \n",
       "\n",
       "        LoanOriginalAmount  ListingCategory (numeric) EmploymentStatus  \\\n",
       "78                    4800                          3         Employed   \n",
       "100                   4000                         13     Not employed   \n",
       "108                  14000                          1         Employed   \n",
       "125                   5000                          7     Not employed   \n",
       "146                   4000                          0              NaN   \n",
       "...                    ...                        ...              ...   \n",
       "113686               14900                          0         Employed   \n",
       "113761                7000                          1     Not employed   \n",
       "113766                4500                         19     Not employed   \n",
       "113767                5000                          3    Self-employed   \n",
       "113803                5000                          7    Self-employed   \n",
       "\n",
       "        EmploymentStatusDuration  IsBorrowerHomeowner  CreditScoreRangeLower  \\\n",
       "78                          68.0                 True                  720.0   \n",
       "100                         12.0                False                  720.0   \n",
       "108                         27.0                False                  640.0   \n",
       "125                          8.0                False                  640.0   \n",
       "146                          NaN                False                  740.0   \n",
       "...                          ...                  ...                    ...   \n",
       "113686                      26.0                False                  740.0   \n",
       "113761                       5.0                False                  720.0   \n",
       "113766                      11.0                False                  720.0   \n",
       "113767                      22.0                False                  520.0   \n",
       "113803                      34.0                 True                  680.0   \n",
       "\n",
       "        ...  BankcardUtilization  CurrentDelinquencies  AmountDelinquent  \\\n",
       "78      ...                 0.73                   0.0               0.0   \n",
       "100     ...                 0.22                   0.0               0.0   \n",
       "108     ...                 0.79                   0.0               0.0   \n",
       "125     ...                 0.98                   0.0               0.0   \n",
       "146     ...                  NaN                   0.0               NaN   \n",
       "...     ...                  ...                   ...               ...   \n",
       "113686  ...                 0.02                   0.0               0.0   \n",
       "113761  ...                 0.38                   0.0               0.0   \n",
       "113766  ...                 0.51                   0.0               0.0   \n",
       "113767  ...                 0.00                   2.0             503.0   \n",
       "113803  ...                 0.57                   1.0               0.0   \n",
       "\n",
       "        DelinquenciesLast7Years  PublicRecordsLast10Years  \\\n",
       "78                          0.0                       0.0   \n",
       "100                         0.0                       0.0   \n",
       "108                         0.0                       0.0   \n",
       "125                         0.0                       0.0   \n",
       "146                         0.0                       0.0   \n",
       "...                         ...                       ...   \n",
       "113686                      0.0                       0.0   \n",
       "113761                      0.0                       0.0   \n",
       "113766                      0.0                       0.0   \n",
       "113767                      0.0                       4.0   \n",
       "113803                      0.0                       0.0   \n",
       "\n",
       "        PublicRecordsLast12Months  RevolvingCreditBalance  DebtToIncomeRatio  \\\n",
       "78                            0.0                 33572.0                NaN   \n",
       "100                           0.0                  5641.0                NaN   \n",
       "108                           0.0                  6850.0                NaN   \n",
       "125                           0.0                 10425.0                NaN   \n",
       "146                           NaN                     NaN               0.07   \n",
       "...                           ...                     ...                ...   \n",
       "113686                        0.0                   361.0                NaN   \n",
       "113761                        0.0                  9595.0                NaN   \n",
       "113766                        0.0                 10092.0                NaN   \n",
       "113767                        0.0                     0.0                NaN   \n",
       "113803                        0.0                 26535.0                NaN   \n",
       "\n",
       "          IncomeRange StatedMonthlyIncome  \n",
       "78                 $0            0.000000  \n",
       "100      Not employed            0.000000  \n",
       "108                $0            0.000000  \n",
       "125      Not employed            0.000000  \n",
       "146     Not displayed            0.083333  \n",
       "...               ...                 ...  \n",
       "113686             $0            0.000000  \n",
       "113761   Not employed            0.000000  \n",
       "113766   Not employed            0.000000  \n",
       "113767             $0            0.000000  \n",
       "113803             $0            0.000000  \n",
       "\n",
       "[1644 rows x 21 columns]"
      ]
     },
     "execution_count": 335,
     "metadata": {},
     "output_type": "execute_result"
    }
   ],
   "source": [
    "df_loan.loc[df_loan['StatedMonthlyIncome'] <= 0.083333, :]"
   ]
  },
  {
   "cell_type": "code",
   "execution_count": 336,
   "metadata": {},
   "outputs": [
    {
     "data": {
      "text/plain": [
       "array(['Not displayed', '$1-24,999', 'Not employed', '$50,000-74,999',\n",
       "       '$25,000-49,999', '$100,000+', '$0'], dtype=object)"
      ]
     },
     "execution_count": 336,
     "metadata": {},
     "output_type": "execute_result"
    }
   ],
   "source": [
    "df_loan.loc[df_loan['StatedMonthlyIncome'] == 0.083333, :].IncomeRange.unique()"
   ]
  },
  {
   "cell_type": "markdown",
   "metadata": {},
   "source": [
    "There are datasets not matching with the income range. I will filter this out."
   ]
  },
  {
   "cell_type": "code",
   "execution_count": 337,
   "metadata": {},
   "outputs": [],
   "source": [
    "incorrect = (df_loan['StatedMonthlyIncome'] <= 0.083333)"
   ]
  },
  {
   "cell_type": "code",
   "execution_count": 338,
   "metadata": {},
   "outputs": [],
   "source": [
    "df_loan = df_loan.loc[-incorrect, :]"
   ]
  },
  {
   "cell_type": "code",
   "execution_count": 339,
   "metadata": {},
   "outputs": [
    {
     "data": {
      "image/png": "[encoded data removed]",
      "text/plain": [
       "<Figure size 1440x360 with 1 Axes>"
      ]
     },
     "metadata": {
      "needs_background": "light"
     },
     "output_type": "display_data"
    }
   ],
   "source": [
    "# re-plot the distribution\n",
    "plt.figure(figsize = [20,5])\n",
    "plt.hist(data = df_loan, x = 'DebtToIncomeRatio', color = base_color, bins = 500);"
   ]
  },
  {
   "cell_type": "code",
   "execution_count": 340,
   "metadata": {},
   "outputs": [
    {
     "ename": "SyntaxError",
     "evalue": "invalid syntax (<ipython-input-340-7f35953d3793>, line 1)",
     "output_type": "error",
     "traceback": [
      "\u001b[1;36m  File \u001b[1;32m\"<ipython-input-340-7f35953d3793>\"\u001b[1;36m, line \u001b[1;32m1\u001b[0m\n\u001b[1;33m    ***********************************check contents\u001b[0m\n\u001b[1;37m     ^\u001b[0m\n\u001b[1;31mSyntaxError\u001b[0m\u001b[1;31m:\u001b[0m invalid syntax\n"
     ]
    }
   ],
   "source": [
    "***********************************check contents "
   ]
  },
  {
   "cell_type": "code",
   "execution_count": null,
   "metadata": {},
   "outputs": [],
   "source": []
  },
  {
   "cell_type": "code",
   "execution_count": 356,
   "metadata": {},
   "outputs": [
    {
     "data": {
      "image/png": "[encoded data removed]",
      "text/plain": [
       "<Figure size 1440x360 with 1 Axes>"
      ]
     },
     "metadata": {
      "needs_background": "light"
     },
     "output_type": "display_data"
    }
   ],
   "source": [
    "# plot the histgram forcused to the data whose debt to income ratio is lower than 1.5\n",
    "plt.figure(figsize = [20,5])\n",
    "plt.hist(data = df_loan[df_loan.DebtToIncomeRatio < 1.5], x = 'DebtToIncomeRatio', color = base_color, bins = 40);"
   ]
  },
  {
   "cell_type": "markdown",
   "metadata": {},
   "source": [
    "It is unimodal and right skewed. "
   ]
  },
  {
   "cell_type": "code",
   "execution_count": 357,
   "metadata": {},
   "outputs": [
    {
     "data": {
      "image/png": "[encoded data removed]",
      "text/plain": [
       "<Figure size 1440x360 with 2 Axes>"
      ]
     },
     "metadata": {
      "needs_background": "light"
     },
     "output_type": "display_data"
    }
   ],
   "source": [
    "# Now let's check the Delinquencies\n",
    "plt.figure(figsize = [20,5])\n",
    "\n",
    "plt.subplot(1,2,1)\n",
    "plt.hist(data = df_loan, x = 'CurrentDelinquencies', bins = 40);\n",
    "\n",
    "plt.subplot(1,2,2)\n",
    "plt.hist(data = df_loan, x = 'AmountDelinquent', bins = 100 );"
   ]
  },
  {
   "cell_type": "markdown",
   "metadata": {},
   "source": [
    "This initial plot show most of the data to the far left of their axies, suggesting some strong outliers on the right. Let's take a look to see if they need to be filtered out of the data."
   ]
  },
  {
   "cell_type": "code",
   "execution_count": 358,
   "metadata": {},
   "outputs": [
    {
     "data": {
      "text/html": [
       "<div>\n",
       "<style scoped>\n",
       "    .dataframe tbody tr th:only-of-type {\n",
       "        vertical-align: middle;\n",
       "    }\n",
       "\n",
       "    .dataframe tbody tr th {\n",
       "        vertical-align: top;\n",
       "    }\n",
       "\n",
       "    .dataframe thead th {\n",
       "        text-align: right;\n",
       "    }\n",
       "</style>\n",
       "<table border=\"1\" class=\"dataframe\">\n",
       "  <thead>\n",
       "    <tr style=\"text-align: right;\">\n",
       "      <th></th>\n",
       "      <th>ListingNumber</th>\n",
       "      <th>LoanStatus</th>\n",
       "      <th>ProsperRating (numeric)</th>\n",
       "      <th>BorrowerAPR</th>\n",
       "      <th>LoanOriginalAmount</th>\n",
       "      <th>ListingCategory (numeric)</th>\n",
       "      <th>EmploymentStatus</th>\n",
       "      <th>EmploymentStatusDuration</th>\n",
       "      <th>IsBorrowerHomeowner</th>\n",
       "      <th>CreditScoreRangeLower</th>\n",
       "      <th>...</th>\n",
       "      <th>BankcardUtilization</th>\n",
       "      <th>CurrentDelinquencies</th>\n",
       "      <th>AmountDelinquent</th>\n",
       "      <th>DelinquenciesLast7Years</th>\n",
       "      <th>PublicRecordsLast10Years</th>\n",
       "      <th>PublicRecordsLast12Months</th>\n",
       "      <th>RevolvingCreditBalance</th>\n",
       "      <th>DebtToIncomeRatio</th>\n",
       "      <th>IncomeRange</th>\n",
       "      <th>StatedMonthlyIncome</th>\n",
       "    </tr>\n",
       "  </thead>\n",
       "  <tbody>\n",
       "    <tr>\n",
       "      <th>535</th>\n",
       "      <td>77938</td>\n",
       "      <td>Defaulted</td>\n",
       "      <td>NaN</td>\n",
       "      <td>0.24658</td>\n",
       "      <td>1700</td>\n",
       "      <td>0</td>\n",
       "      <td>Not available</td>\n",
       "      <td>NaN</td>\n",
       "      <td>False</td>\n",
       "      <td>500.0</td>\n",
       "      <td>...</td>\n",
       "      <td>NaN</td>\n",
       "      <td>22.0</td>\n",
       "      <td>NaN</td>\n",
       "      <td>0.0</td>\n",
       "      <td>0.0</td>\n",
       "      <td>NaN</td>\n",
       "      <td>NaN</td>\n",
       "      <td>0.03</td>\n",
       "      <td>Not displayed</td>\n",
       "      <td>2583.333333</td>\n",
       "    </tr>\n",
       "    <tr>\n",
       "      <th>1101</th>\n",
       "      <td>75961</td>\n",
       "      <td>Chargedoff</td>\n",
       "      <td>NaN</td>\n",
       "      <td>0.30911</td>\n",
       "      <td>1000</td>\n",
       "      <td>0</td>\n",
       "      <td>Not available</td>\n",
       "      <td>NaN</td>\n",
       "      <td>True</td>\n",
       "      <td>560.0</td>\n",
       "      <td>...</td>\n",
       "      <td>NaN</td>\n",
       "      <td>21.0</td>\n",
       "      <td>NaN</td>\n",
       "      <td>26.0</td>\n",
       "      <td>0.0</td>\n",
       "      <td>NaN</td>\n",
       "      <td>NaN</td>\n",
       "      <td>0.38</td>\n",
       "      <td>Not displayed</td>\n",
       "      <td>3333.333333</td>\n",
       "    </tr>\n",
       "    <tr>\n",
       "      <th>1799</th>\n",
       "      <td>377867</td>\n",
       "      <td>Chargedoff</td>\n",
       "      <td>NaN</td>\n",
       "      <td>0.37453</td>\n",
       "      <td>2780</td>\n",
       "      <td>1</td>\n",
       "      <td>Employed</td>\n",
       "      <td>8.0</td>\n",
       "      <td>False</td>\n",
       "      <td>520.0</td>\n",
       "      <td>...</td>\n",
       "      <td>0.00</td>\n",
       "      <td>22.0</td>\n",
       "      <td>15995.0</td>\n",
       "      <td>4.0</td>\n",
       "      <td>5.0</td>\n",
       "      <td>0.0</td>\n",
       "      <td>0.0</td>\n",
       "      <td>0.06</td>\n",
       "      <td>$1-24,999</td>\n",
       "      <td>2000.000000</td>\n",
       "    </tr>\n",
       "    <tr>\n",
       "      <th>2259</th>\n",
       "      <td>285543</td>\n",
       "      <td>Chargedoff</td>\n",
       "      <td>NaN</td>\n",
       "      <td>0.37453</td>\n",
       "      <td>1000</td>\n",
       "      <td>7</td>\n",
       "      <td>Employed</td>\n",
       "      <td>35.0</td>\n",
       "      <td>False</td>\n",
       "      <td>520.0</td>\n",
       "      <td>...</td>\n",
       "      <td>0.00</td>\n",
       "      <td>25.0</td>\n",
       "      <td>29183.0</td>\n",
       "      <td>44.0</td>\n",
       "      <td>1.0</td>\n",
       "      <td>0.0</td>\n",
       "      <td>0.0</td>\n",
       "      <td>0.08</td>\n",
       "      <td>$1-24,999</td>\n",
       "      <td>1300.833333</td>\n",
       "    </tr>\n",
       "    <tr>\n",
       "      <th>5464</th>\n",
       "      <td>84989</td>\n",
       "      <td>Chargedoff</td>\n",
       "      <td>NaN</td>\n",
       "      <td>0.24451</td>\n",
       "      <td>2771</td>\n",
       "      <td>0</td>\n",
       "      <td>Not available</td>\n",
       "      <td>NaN</td>\n",
       "      <td>True</td>\n",
       "      <td>540.0</td>\n",
       "      <td>...</td>\n",
       "      <td>NaN</td>\n",
       "      <td>21.0</td>\n",
       "      <td>NaN</td>\n",
       "      <td>30.0</td>\n",
       "      <td>0.0</td>\n",
       "      <td>NaN</td>\n",
       "      <td>NaN</td>\n",
       "      <td>0.19</td>\n",
       "      <td>Not displayed</td>\n",
       "      <td>3000.000000</td>\n",
       "    </tr>\n",
       "    <tr>\n",
       "      <th>...</th>\n",
       "      <td>...</td>\n",
       "      <td>...</td>\n",
       "      <td>...</td>\n",
       "      <td>...</td>\n",
       "      <td>...</td>\n",
       "      <td>...</td>\n",
       "      <td>...</td>\n",
       "      <td>...</td>\n",
       "      <td>...</td>\n",
       "      <td>...</td>\n",
       "      <td>...</td>\n",
       "      <td>...</td>\n",
       "      <td>...</td>\n",
       "      <td>...</td>\n",
       "      <td>...</td>\n",
       "      <td>...</td>\n",
       "      <td>...</td>\n",
       "      <td>...</td>\n",
       "      <td>...</td>\n",
       "      <td>...</td>\n",
       "      <td>...</td>\n",
       "    </tr>\n",
       "    <tr>\n",
       "      <th>109208</th>\n",
       "      <td>1088540</td>\n",
       "      <td>Current</td>\n",
       "      <td>5.0</td>\n",
       "      <td>0.17611</td>\n",
       "      <td>15000</td>\n",
       "      <td>1</td>\n",
       "      <td>Other</td>\n",
       "      <td>0.0</td>\n",
       "      <td>True</td>\n",
       "      <td>700.0</td>\n",
       "      <td>...</td>\n",
       "      <td>0.29</td>\n",
       "      <td>51.0</td>\n",
       "      <td>8918.0</td>\n",
       "      <td>0.0</td>\n",
       "      <td>0.0</td>\n",
       "      <td>0.0</td>\n",
       "      <td>10715.0</td>\n",
       "      <td>0.39</td>\n",
       "      <td>$50,000-74,999</td>\n",
       "      <td>5000.000000</td>\n",
       "    </tr>\n",
       "    <tr>\n",
       "      <th>109718</th>\n",
       "      <td>123482</td>\n",
       "      <td>Chargedoff</td>\n",
       "      <td>NaN</td>\n",
       "      <td>0.23547</td>\n",
       "      <td>15000</td>\n",
       "      <td>0</td>\n",
       "      <td>Employed</td>\n",
       "      <td>3.0</td>\n",
       "      <td>True</td>\n",
       "      <td>600.0</td>\n",
       "      <td>...</td>\n",
       "      <td>0.00</td>\n",
       "      <td>23.0</td>\n",
       "      <td>63558.0</td>\n",
       "      <td>84.0</td>\n",
       "      <td>0.0</td>\n",
       "      <td>0.0</td>\n",
       "      <td>0.0</td>\n",
       "      <td>0.56</td>\n",
       "      <td>$25,000-49,999</td>\n",
       "      <td>2058.333333</td>\n",
       "    </tr>\n",
       "    <tr>\n",
       "      <th>110425</th>\n",
       "      <td>69974</td>\n",
       "      <td>Completed</td>\n",
       "      <td>NaN</td>\n",
       "      <td>0.23174</td>\n",
       "      <td>1525</td>\n",
       "      <td>0</td>\n",
       "      <td>Not available</td>\n",
       "      <td>NaN</td>\n",
       "      <td>False</td>\n",
       "      <td>500.0</td>\n",
       "      <td>...</td>\n",
       "      <td>NaN</td>\n",
       "      <td>24.0</td>\n",
       "      <td>NaN</td>\n",
       "      <td>30.0</td>\n",
       "      <td>0.0</td>\n",
       "      <td>NaN</td>\n",
       "      <td>NaN</td>\n",
       "      <td>0.02</td>\n",
       "      <td>Not displayed</td>\n",
       "      <td>3583.333333</td>\n",
       "    </tr>\n",
       "    <tr>\n",
       "      <th>111561</th>\n",
       "      <td>56232</td>\n",
       "      <td>Defaulted</td>\n",
       "      <td>NaN</td>\n",
       "      <td>0.24800</td>\n",
       "      <td>1050</td>\n",
       "      <td>0</td>\n",
       "      <td>Not available</td>\n",
       "      <td>NaN</td>\n",
       "      <td>False</td>\n",
       "      <td>520.0</td>\n",
       "      <td>...</td>\n",
       "      <td>NaN</td>\n",
       "      <td>28.0</td>\n",
       "      <td>NaN</td>\n",
       "      <td>0.0</td>\n",
       "      <td>1.0</td>\n",
       "      <td>NaN</td>\n",
       "      <td>NaN</td>\n",
       "      <td>0.26</td>\n",
       "      <td>Not displayed</td>\n",
       "      <td>2000.000000</td>\n",
       "    </tr>\n",
       "    <tr>\n",
       "      <th>113804</th>\n",
       "      <td>280653</td>\n",
       "      <td>Completed</td>\n",
       "      <td>NaN</td>\n",
       "      <td>0.26140</td>\n",
       "      <td>5000</td>\n",
       "      <td>1</td>\n",
       "      <td>Employed</td>\n",
       "      <td>5.0</td>\n",
       "      <td>False</td>\n",
       "      <td>600.0</td>\n",
       "      <td>...</td>\n",
       "      <td>0.88</td>\n",
       "      <td>23.0</td>\n",
       "      <td>38660.0</td>\n",
       "      <td>62.0</td>\n",
       "      <td>0.0</td>\n",
       "      <td>0.0</td>\n",
       "      <td>844.0</td>\n",
       "      <td>0.09</td>\n",
       "      <td>$100,000+</td>\n",
       "      <td>13333.333333</td>\n",
       "    </tr>\n",
       "  </tbody>\n",
       "</table>\n",
       "<p>132 rows × 21 columns</p>\n",
       "</div>"
      ],
      "text/plain": [
       "        ListingNumber  LoanStatus  ProsperRating (numeric)  BorrowerAPR  \\\n",
       "535             77938   Defaulted                      NaN      0.24658   \n",
       "1101            75961  Chargedoff                      NaN      0.30911   \n",
       "1799           377867  Chargedoff                      NaN      0.37453   \n",
       "2259           285543  Chargedoff                      NaN      0.37453   \n",
       "5464            84989  Chargedoff                      NaN      0.24451   \n",
       "...               ...         ...                      ...          ...   \n",
       "109208        1088540     Current                      5.0      0.17611   \n",
       "109718         123482  Chargedoff                      NaN      0.23547   \n",
       "110425          69974   Completed                      NaN      0.23174   \n",
       "111561          56232   Defaulted                      NaN      0.24800   \n",
       "113804         280653   Completed                      NaN      0.26140   \n",
       "\n",
       "        LoanOriginalAmount  ListingCategory (numeric) EmploymentStatus  \\\n",
       "535                   1700                          0    Not available   \n",
       "1101                  1000                          0    Not available   \n",
       "1799                  2780                          1         Employed   \n",
       "2259                  1000                          7         Employed   \n",
       "5464                  2771                          0    Not available   \n",
       "...                    ...                        ...              ...   \n",
       "109208               15000                          1            Other   \n",
       "109718               15000                          0         Employed   \n",
       "110425                1525                          0    Not available   \n",
       "111561                1050                          0    Not available   \n",
       "113804                5000                          1         Employed   \n",
       "\n",
       "        EmploymentStatusDuration  IsBorrowerHomeowner  CreditScoreRangeLower  \\\n",
       "535                          NaN                False                  500.0   \n",
       "1101                         NaN                 True                  560.0   \n",
       "1799                         8.0                False                  520.0   \n",
       "2259                        35.0                False                  520.0   \n",
       "5464                         NaN                 True                  540.0   \n",
       "...                          ...                  ...                    ...   \n",
       "109208                       0.0                 True                  700.0   \n",
       "109718                       3.0                 True                  600.0   \n",
       "110425                       NaN                False                  500.0   \n",
       "111561                       NaN                False                  520.0   \n",
       "113804                       5.0                False                  600.0   \n",
       "\n",
       "        ...  BankcardUtilization  CurrentDelinquencies  AmountDelinquent  \\\n",
       "535     ...                  NaN                  22.0               NaN   \n",
       "1101    ...                  NaN                  21.0               NaN   \n",
       "1799    ...                 0.00                  22.0           15995.0   \n",
       "2259    ...                 0.00                  25.0           29183.0   \n",
       "5464    ...                  NaN                  21.0               NaN   \n",
       "...     ...                  ...                   ...               ...   \n",
       "109208  ...                 0.29                  51.0            8918.0   \n",
       "109718  ...                 0.00                  23.0           63558.0   \n",
       "110425  ...                  NaN                  24.0               NaN   \n",
       "111561  ...                  NaN                  28.0               NaN   \n",
       "113804  ...                 0.88                  23.0           38660.0   \n",
       "\n",
       "        DelinquenciesLast7Years  PublicRecordsLast10Years  \\\n",
       "535                         0.0                       0.0   \n",
       "1101                       26.0                       0.0   \n",
       "1799                        4.0                       5.0   \n",
       "2259                       44.0                       1.0   \n",
       "5464                       30.0                       0.0   \n",
       "...                         ...                       ...   \n",
       "109208                      0.0                       0.0   \n",
       "109718                     84.0                       0.0   \n",
       "110425                     30.0                       0.0   \n",
       "111561                      0.0                       1.0   \n",
       "113804                     62.0                       0.0   \n",
       "\n",
       "        PublicRecordsLast12Months  RevolvingCreditBalance  DebtToIncomeRatio  \\\n",
       "535                           NaN                     NaN               0.03   \n",
       "1101                          NaN                     NaN               0.38   \n",
       "1799                          0.0                     0.0               0.06   \n",
       "2259                          0.0                     0.0               0.08   \n",
       "5464                          NaN                     NaN               0.19   \n",
       "...                           ...                     ...                ...   \n",
       "109208                        0.0                 10715.0               0.39   \n",
       "109718                        0.0                     0.0               0.56   \n",
       "110425                        NaN                     NaN               0.02   \n",
       "111561                        NaN                     NaN               0.26   \n",
       "113804                        0.0                   844.0               0.09   \n",
       "\n",
       "           IncomeRange StatedMonthlyIncome  \n",
       "535      Not displayed         2583.333333  \n",
       "1101     Not displayed         3333.333333  \n",
       "1799         $1-24,999         2000.000000  \n",
       "2259         $1-24,999         1300.833333  \n",
       "5464     Not displayed         3000.000000  \n",
       "...                ...                 ...  \n",
       "109208  $50,000-74,999         5000.000000  \n",
       "109718  $25,000-49,999         2058.333333  \n",
       "110425   Not displayed         3583.333333  \n",
       "111561   Not displayed         2000.000000  \n",
       "113804       $100,000+        13333.333333  \n",
       "\n",
       "[132 rows x 21 columns]"
      ]
     },
     "execution_count": 358,
     "metadata": {},
     "output_type": "execute_result"
    }
   ],
   "source": [
    "df_loan.loc[df_loan.CurrentDelinquencies > 20]"
   ]
  },
  {
   "cell_type": "code",
   "execution_count": 359,
   "metadata": {},
   "outputs": [
    {
     "data": {
      "text/plain": [
       "Chargedoff    52\n",
       "Defaulted     43\n",
       "Completed     32\n",
       "Current        3\n",
       "Past Due       2\n",
       "Name: LoanStatus, dtype: int64"
      ]
     },
     "execution_count": 359,
     "metadata": {},
     "output_type": "execute_result"
    }
   ],
   "source": [
    "df_loan.loc[df_loan.CurrentDelinquencies > 20, ].LoanStatus.value_counts()"
   ]
  },
  {
   "cell_type": "markdown",
   "metadata": {},
   "source": [
    "Those outlier has high Chargedoff/Defaulted chance. Therefore, I will keep it for the further analysis."
   ]
  },
  {
   "cell_type": "code",
   "execution_count": 360,
   "metadata": {},
   "outputs": [
    {
     "data": {
      "image/png": "[encoded data removed]",
      "text/plain": [
       "<Figure size 432x288 with 1 Axes>"
      ]
     },
     "metadata": {
      "needs_background": "light"
     },
     "output_type": "display_data"
    }
   ],
   "source": [
    "# Now public record.\n",
    "\n",
    "plt.hist(data = df_loan, x = 'PublicRecordsLast12Months', bins = 40);"
   ]
  },
  {
   "cell_type": "code",
   "execution_count": 361,
   "metadata": {},
   "outputs": [
    {
     "data": {
      "text/plain": [
       "0.0     103434\n",
       "1.0       1236\n",
       "2.0         91\n",
       "3.0         28\n",
       "4.0         10\n",
       "7.0          2\n",
       "20.0         1\n",
       "Name: PublicRecordsLast12Months, dtype: int64"
      ]
     },
     "execution_count": 361,
     "metadata": {},
     "output_type": "execute_result"
    }
   ],
   "source": [
    "df_loan.PublicRecordsLast12Months.value_counts()"
   ]
  },
  {
   "cell_type": "markdown",
   "metadata": {},
   "source": [
    "Most of the people has 0 public records."
   ]
  },
  {
   "cell_type": "code",
   "execution_count": 362,
   "metadata": {},
   "outputs": [
    {
     "data": {
      "image/png": "[encoded data removed]",
      "text/plain": [
       "<Figure size 1800x360 with 1 Axes>"
      ]
     },
     "metadata": {
      "needs_background": "light"
     },
     "output_type": "display_data"
    }
   ],
   "source": [
    "# Let's look at the revolving \n",
    "plt.figure(figsize = [25,5])\n",
    "plt.hist(data = df_loan, x = 'BankcardUtilization', bins = 100);"
   ]
  },
  {
   "cell_type": "markdown",
   "metadata": {},
   "source": [
    "This feature can be over 100%. While 0 is the highest frequency but the rest has a slight upwords trends towards 100%. And this graph shows there are strong outligher on the right side."
   ]
  },
  {
   "cell_type": "code",
   "execution_count": 363,
   "metadata": {},
   "outputs": [
    {
     "data": {
      "text/html": [
       "<div>\n",
       "<style scoped>\n",
       "    .dataframe tbody tr th:only-of-type {\n",
       "        vertical-align: middle;\n",
       "    }\n",
       "\n",
       "    .dataframe tbody tr th {\n",
       "        vertical-align: top;\n",
       "    }\n",
       "\n",
       "    .dataframe thead th {\n",
       "        text-align: right;\n",
       "    }\n",
       "</style>\n",
       "<table border=\"1\" class=\"dataframe\">\n",
       "  <thead>\n",
       "    <tr style=\"text-align: right;\">\n",
       "      <th></th>\n",
       "      <th>ListingNumber</th>\n",
       "      <th>LoanStatus</th>\n",
       "      <th>ProsperRating (numeric)</th>\n",
       "      <th>BorrowerAPR</th>\n",
       "      <th>LoanOriginalAmount</th>\n",
       "      <th>ListingCategory (numeric)</th>\n",
       "      <th>EmploymentStatus</th>\n",
       "      <th>EmploymentStatusDuration</th>\n",
       "      <th>IsBorrowerHomeowner</th>\n",
       "      <th>CreditScoreRangeLower</th>\n",
       "      <th>...</th>\n",
       "      <th>BankcardUtilization</th>\n",
       "      <th>CurrentDelinquencies</th>\n",
       "      <th>AmountDelinquent</th>\n",
       "      <th>DelinquenciesLast7Years</th>\n",
       "      <th>PublicRecordsLast10Years</th>\n",
       "      <th>PublicRecordsLast12Months</th>\n",
       "      <th>RevolvingCreditBalance</th>\n",
       "      <th>DebtToIncomeRatio</th>\n",
       "      <th>IncomeRange</th>\n",
       "      <th>StatedMonthlyIncome</th>\n",
       "    </tr>\n",
       "  </thead>\n",
       "  <tbody>\n",
       "    <tr>\n",
       "      <th>127</th>\n",
       "      <td>292860</td>\n",
       "      <td>Chargedoff</td>\n",
       "      <td>NaN</td>\n",
       "      <td>0.29743</td>\n",
       "      <td>2551</td>\n",
       "      <td>1</td>\n",
       "      <td>Employed</td>\n",
       "      <td>47.0</td>\n",
       "      <td>False</td>\n",
       "      <td>520.0</td>\n",
       "      <td>...</td>\n",
       "      <td>1.31</td>\n",
       "      <td>1.0</td>\n",
       "      <td>30.0</td>\n",
       "      <td>5.0</td>\n",
       "      <td>0.0</td>\n",
       "      <td>0.0</td>\n",
       "      <td>1051.0</td>\n",
       "      <td>0.17</td>\n",
       "      <td>$25,000-49,999</td>\n",
       "      <td>2946.666667</td>\n",
       "    </tr>\n",
       "    <tr>\n",
       "      <th>212</th>\n",
       "      <td>573511</td>\n",
       "      <td>Current</td>\n",
       "      <td>1.0</td>\n",
       "      <td>0.35797</td>\n",
       "      <td>4000</td>\n",
       "      <td>7</td>\n",
       "      <td>Employed</td>\n",
       "      <td>56.0</td>\n",
       "      <td>True</td>\n",
       "      <td>660.0</td>\n",
       "      <td>...</td>\n",
       "      <td>1.04</td>\n",
       "      <td>0.0</td>\n",
       "      <td>0.0</td>\n",
       "      <td>5.0</td>\n",
       "      <td>1.0</td>\n",
       "      <td>0.0</td>\n",
       "      <td>6472.0</td>\n",
       "      <td>0.26</td>\n",
       "      <td>$25,000-49,999</td>\n",
       "      <td>3708.333333</td>\n",
       "    </tr>\n",
       "    <tr>\n",
       "      <th>302</th>\n",
       "      <td>460728</td>\n",
       "      <td>Chargedoff</td>\n",
       "      <td>3.0</td>\n",
       "      <td>0.28574</td>\n",
       "      <td>2500</td>\n",
       "      <td>1</td>\n",
       "      <td>Employed</td>\n",
       "      <td>23.0</td>\n",
       "      <td>False</td>\n",
       "      <td>640.0</td>\n",
       "      <td>...</td>\n",
       "      <td>1.01</td>\n",
       "      <td>0.0</td>\n",
       "      <td>0.0</td>\n",
       "      <td>0.0</td>\n",
       "      <td>0.0</td>\n",
       "      <td>0.0</td>\n",
       "      <td>3228.0</td>\n",
       "      <td>0.10</td>\n",
       "      <td>$50,000-74,999</td>\n",
       "      <td>4183.333333</td>\n",
       "    </tr>\n",
       "    <tr>\n",
       "      <th>367</th>\n",
       "      <td>312524</td>\n",
       "      <td>Completed</td>\n",
       "      <td>NaN</td>\n",
       "      <td>0.30704</td>\n",
       "      <td>1545</td>\n",
       "      <td>4</td>\n",
       "      <td>Employed</td>\n",
       "      <td>13.0</td>\n",
       "      <td>False</td>\n",
       "      <td>560.0</td>\n",
       "      <td>...</td>\n",
       "      <td>1.01</td>\n",
       "      <td>0.0</td>\n",
       "      <td>0.0</td>\n",
       "      <td>0.0</td>\n",
       "      <td>0.0</td>\n",
       "      <td>0.0</td>\n",
       "      <td>4050.0</td>\n",
       "      <td>0.49</td>\n",
       "      <td>$1-24,999</td>\n",
       "      <td>1583.333333</td>\n",
       "    </tr>\n",
       "    <tr>\n",
       "      <th>397</th>\n",
       "      <td>758046</td>\n",
       "      <td>Chargedoff</td>\n",
       "      <td>2.0</td>\n",
       "      <td>0.32393</td>\n",
       "      <td>4000</td>\n",
       "      <td>15</td>\n",
       "      <td>Employed</td>\n",
       "      <td>98.0</td>\n",
       "      <td>False</td>\n",
       "      <td>620.0</td>\n",
       "      <td>...</td>\n",
       "      <td>1.03</td>\n",
       "      <td>11.0</td>\n",
       "      <td>18536.0</td>\n",
       "      <td>21.0</td>\n",
       "      <td>0.0</td>\n",
       "      <td>0.0</td>\n",
       "      <td>3511.0</td>\n",
       "      <td>0.11</td>\n",
       "      <td>$50,000-74,999</td>\n",
       "      <td>4166.666667</td>\n",
       "    </tr>\n",
       "    <tr>\n",
       "      <th>...</th>\n",
       "      <td>...</td>\n",
       "      <td>...</td>\n",
       "      <td>...</td>\n",
       "      <td>...</td>\n",
       "      <td>...</td>\n",
       "      <td>...</td>\n",
       "      <td>...</td>\n",
       "      <td>...</td>\n",
       "      <td>...</td>\n",
       "      <td>...</td>\n",
       "      <td>...</td>\n",
       "      <td>...</td>\n",
       "      <td>...</td>\n",
       "      <td>...</td>\n",
       "      <td>...</td>\n",
       "      <td>...</td>\n",
       "      <td>...</td>\n",
       "      <td>...</td>\n",
       "      <td>...</td>\n",
       "      <td>...</td>\n",
       "      <td>...</td>\n",
       "    </tr>\n",
       "    <tr>\n",
       "      <th>113692</th>\n",
       "      <td>250328</td>\n",
       "      <td>Chargedoff</td>\n",
       "      <td>NaN</td>\n",
       "      <td>0.36623</td>\n",
       "      <td>2100</td>\n",
       "      <td>1</td>\n",
       "      <td>Not employed</td>\n",
       "      <td>26.0</td>\n",
       "      <td>True</td>\n",
       "      <td>580.0</td>\n",
       "      <td>...</td>\n",
       "      <td>1.02</td>\n",
       "      <td>0.0</td>\n",
       "      <td>0.0</td>\n",
       "      <td>2.0</td>\n",
       "      <td>1.0</td>\n",
       "      <td>0.0</td>\n",
       "      <td>2513.0</td>\n",
       "      <td>0.33</td>\n",
       "      <td>Not employed</td>\n",
       "      <td>1289.000000</td>\n",
       "    </tr>\n",
       "    <tr>\n",
       "      <th>113704</th>\n",
       "      <td>380216</td>\n",
       "      <td>Completed</td>\n",
       "      <td>NaN</td>\n",
       "      <td>0.05104</td>\n",
       "      <td>16000</td>\n",
       "      <td>6</td>\n",
       "      <td>Employed</td>\n",
       "      <td>6.0</td>\n",
       "      <td>False</td>\n",
       "      <td>620.0</td>\n",
       "      <td>...</td>\n",
       "      <td>1.10</td>\n",
       "      <td>0.0</td>\n",
       "      <td>0.0</td>\n",
       "      <td>7.0</td>\n",
       "      <td>0.0</td>\n",
       "      <td>0.0</td>\n",
       "      <td>550.0</td>\n",
       "      <td>NaN</td>\n",
       "      <td>$1-24,999</td>\n",
       "      <td>1000.000000</td>\n",
       "    </tr>\n",
       "    <tr>\n",
       "      <th>113846</th>\n",
       "      <td>536612</td>\n",
       "      <td>Completed</td>\n",
       "      <td>2.0</td>\n",
       "      <td>0.35132</td>\n",
       "      <td>7000</td>\n",
       "      <td>1</td>\n",
       "      <td>Employed</td>\n",
       "      <td>87.0</td>\n",
       "      <td>True</td>\n",
       "      <td>680.0</td>\n",
       "      <td>...</td>\n",
       "      <td>1.02</td>\n",
       "      <td>0.0</td>\n",
       "      <td>0.0</td>\n",
       "      <td>20.0</td>\n",
       "      <td>1.0</td>\n",
       "      <td>0.0</td>\n",
       "      <td>4093.0</td>\n",
       "      <td>0.18</td>\n",
       "      <td>$25,000-49,999</td>\n",
       "      <td>3750.000000</td>\n",
       "    </tr>\n",
       "    <tr>\n",
       "      <th>113859</th>\n",
       "      <td>279674</td>\n",
       "      <td>Completed</td>\n",
       "      <td>NaN</td>\n",
       "      <td>0.23635</td>\n",
       "      <td>3000</td>\n",
       "      <td>1</td>\n",
       "      <td>Employed</td>\n",
       "      <td>6.0</td>\n",
       "      <td>False</td>\n",
       "      <td>560.0</td>\n",
       "      <td>...</td>\n",
       "      <td>1.04</td>\n",
       "      <td>0.0</td>\n",
       "      <td>0.0</td>\n",
       "      <td>0.0</td>\n",
       "      <td>0.0</td>\n",
       "      <td>0.0</td>\n",
       "      <td>9418.0</td>\n",
       "      <td>0.11</td>\n",
       "      <td>$50,000-74,999</td>\n",
       "      <td>4333.333333</td>\n",
       "    </tr>\n",
       "    <tr>\n",
       "      <th>113896</th>\n",
       "      <td>275772</td>\n",
       "      <td>Chargedoff</td>\n",
       "      <td>NaN</td>\n",
       "      <td>0.32327</td>\n",
       "      <td>2200</td>\n",
       "      <td>5</td>\n",
       "      <td>Employed</td>\n",
       "      <td>30.0</td>\n",
       "      <td>False</td>\n",
       "      <td>520.0</td>\n",
       "      <td>...</td>\n",
       "      <td>1.05</td>\n",
       "      <td>0.0</td>\n",
       "      <td>0.0</td>\n",
       "      <td>0.0</td>\n",
       "      <td>0.0</td>\n",
       "      <td>0.0</td>\n",
       "      <td>4339.0</td>\n",
       "      <td>0.26</td>\n",
       "      <td>$1-24,999</td>\n",
       "      <td>1166.666667</td>\n",
       "    </tr>\n",
       "  </tbody>\n",
       "</table>\n",
       "<p>1715 rows × 21 columns</p>\n",
       "</div>"
      ],
      "text/plain": [
       "        ListingNumber  LoanStatus  ProsperRating (numeric)  BorrowerAPR  \\\n",
       "127            292860  Chargedoff                      NaN      0.29743   \n",
       "212            573511     Current                      1.0      0.35797   \n",
       "302            460728  Chargedoff                      3.0      0.28574   \n",
       "367            312524   Completed                      NaN      0.30704   \n",
       "397            758046  Chargedoff                      2.0      0.32393   \n",
       "...               ...         ...                      ...          ...   \n",
       "113692         250328  Chargedoff                      NaN      0.36623   \n",
       "113704         380216   Completed                      NaN      0.05104   \n",
       "113846         536612   Completed                      2.0      0.35132   \n",
       "113859         279674   Completed                      NaN      0.23635   \n",
       "113896         275772  Chargedoff                      NaN      0.32327   \n",
       "\n",
       "        LoanOriginalAmount  ListingCategory (numeric) EmploymentStatus  \\\n",
       "127                   2551                          1         Employed   \n",
       "212                   4000                          7         Employed   \n",
       "302                   2500                          1         Employed   \n",
       "367                   1545                          4         Employed   \n",
       "397                   4000                         15         Employed   \n",
       "...                    ...                        ...              ...   \n",
       "113692                2100                          1     Not employed   \n",
       "113704               16000                          6         Employed   \n",
       "113846                7000                          1         Employed   \n",
       "113859                3000                          1         Employed   \n",
       "113896                2200                          5         Employed   \n",
       "\n",
       "        EmploymentStatusDuration  IsBorrowerHomeowner  CreditScoreRangeLower  \\\n",
       "127                         47.0                False                  520.0   \n",
       "212                         56.0                 True                  660.0   \n",
       "302                         23.0                False                  640.0   \n",
       "367                         13.0                False                  560.0   \n",
       "397                         98.0                False                  620.0   \n",
       "...                          ...                  ...                    ...   \n",
       "113692                      26.0                 True                  580.0   \n",
       "113704                       6.0                False                  620.0   \n",
       "113846                      87.0                 True                  680.0   \n",
       "113859                       6.0                False                  560.0   \n",
       "113896                      30.0                False                  520.0   \n",
       "\n",
       "        ...  BankcardUtilization  CurrentDelinquencies  AmountDelinquent  \\\n",
       "127     ...                 1.31                   1.0              30.0   \n",
       "212     ...                 1.04                   0.0               0.0   \n",
       "302     ...                 1.01                   0.0               0.0   \n",
       "367     ...                 1.01                   0.0               0.0   \n",
       "397     ...                 1.03                  11.0           18536.0   \n",
       "...     ...                  ...                   ...               ...   \n",
       "113692  ...                 1.02                   0.0               0.0   \n",
       "113704  ...                 1.10                   0.0               0.0   \n",
       "113846  ...                 1.02                   0.0               0.0   \n",
       "113859  ...                 1.04                   0.0               0.0   \n",
       "113896  ...                 1.05                   0.0               0.0   \n",
       "\n",
       "        DelinquenciesLast7Years  PublicRecordsLast10Years  \\\n",
       "127                         5.0                       0.0   \n",
       "212                         5.0                       1.0   \n",
       "302                         0.0                       0.0   \n",
       "367                         0.0                       0.0   \n",
       "397                        21.0                       0.0   \n",
       "...                         ...                       ...   \n",
       "113692                      2.0                       1.0   \n",
       "113704                      7.0                       0.0   \n",
       "113846                     20.0                       1.0   \n",
       "113859                      0.0                       0.0   \n",
       "113896                      0.0                       0.0   \n",
       "\n",
       "        PublicRecordsLast12Months  RevolvingCreditBalance  DebtToIncomeRatio  \\\n",
       "127                           0.0                  1051.0               0.17   \n",
       "212                           0.0                  6472.0               0.26   \n",
       "302                           0.0                  3228.0               0.10   \n",
       "367                           0.0                  4050.0               0.49   \n",
       "397                           0.0                  3511.0               0.11   \n",
       "...                           ...                     ...                ...   \n",
       "113692                        0.0                  2513.0               0.33   \n",
       "113704                        0.0                   550.0                NaN   \n",
       "113846                        0.0                  4093.0               0.18   \n",
       "113859                        0.0                  9418.0               0.11   \n",
       "113896                        0.0                  4339.0               0.26   \n",
       "\n",
       "           IncomeRange StatedMonthlyIncome  \n",
       "127     $25,000-49,999         2946.666667  \n",
       "212     $25,000-49,999         3708.333333  \n",
       "302     $50,000-74,999         4183.333333  \n",
       "367          $1-24,999         1583.333333  \n",
       "397     $50,000-74,999         4166.666667  \n",
       "...                ...                 ...  \n",
       "113692    Not employed         1289.000000  \n",
       "113704       $1-24,999         1000.000000  \n",
       "113846  $25,000-49,999         3750.000000  \n",
       "113859  $50,000-74,999         4333.333333  \n",
       "113896       $1-24,999         1166.666667  \n",
       "\n",
       "[1715 rows x 21 columns]"
      ]
     },
     "execution_count": 363,
     "metadata": {},
     "output_type": "execute_result"
    }
   ],
   "source": [
    "df_loan[df_loan['BankcardUtilization']>1]"
   ]
  },
  {
   "cell_type": "code",
   "execution_count": 364,
   "metadata": {},
   "outputs": [
    {
     "data": {
      "image/png": "[encoded data removed]",
      "text/plain": [
       "<Figure size 1440x360 with 1 Axes>"
      ]
     },
     "metadata": {
      "needs_background": "light"
     },
     "output_type": "display_data"
    }
   ],
   "source": [
    "# Let's zoom in to the data higher than 1\n",
    "plt.figure(figsize = [20,5])\n",
    "\n",
    "\n",
    "plt.hist(data = df_loan[df_loan['BankcardUtilization']>1], x = 'BankcardUtilization', bins = 60);\n"
   ]
  },
  {
   "cell_type": "code",
   "execution_count": 365,
   "metadata": {},
   "outputs": [
    {
     "data": {
      "text/plain": [
       "5031     4.73\n",
       "26151    5.95\n",
       "67184    3.47\n",
       "71777    5.83\n",
       "Name: BankcardUtilization, dtype: float64"
      ]
     },
     "execution_count": 365,
     "metadata": {},
     "output_type": "execute_result"
    }
   ],
   "source": [
    "df_loan[df_loan['BankcardUtilization']>3].BankcardUtilization"
   ]
  },
  {
   "cell_type": "markdown",
   "metadata": {},
   "source": [
    "The above 4 are the extreme outliers."
   ]
  },
  {
   "cell_type": "code",
   "execution_count": 366,
   "metadata": {},
   "outputs": [
    {
     "data": {
      "image/png": "[encoded data removed]",
      "text/plain": [
       "<Figure size 432x288 with 1 Axes>"
      ]
     },
     "metadata": {
      "needs_background": "light"
     },
     "output_type": "display_data"
    }
   ],
   "source": [
    "# now lets looke at the original loan amount\n",
    "\n",
    "plt.hist(data = df_loan, x = 'LoanOriginalAmount', bins = 50);"
   ]
  },
  {
   "cell_type": "markdown",
   "metadata": {},
   "source": [
    "This shows multiple peak, and loan amount tends to be around nice round number."
   ]
  },
  {
   "cell_type": "code",
   "execution_count": 367,
   "metadata": {},
   "outputs": [
    {
     "data": {
      "image/png": "[encoded data removed]",
      "text/plain": [
       "<Figure size 576x360 with 1 Axes>"
      ]
     },
     "metadata": {
      "needs_background": "light"
     },
     "output_type": "display_data"
    }
   ],
   "source": [
    "# There is a long tail in the distribution, so let's put it on a log scale instead.\n",
    "log_binsize = 0.15\n",
    "bins = 10**np.arange(3, np.log10(df_loan.LoanOriginalAmount.max()) + log_binsize, log_binsize)\n",
    "\n",
    "plt.figure(figsize=[8, 5])\n",
    "plt.hist(data = df_loan, x = 'LoanOriginalAmount', bins = bins)\n",
    "plt.xscale('log')\n",
    "plt.xticks([500, 1e3, 2e3, 5e3, 1e4, 2e4], [500, '1k', '2k', '5k', '10k', '20k'])\n",
    "plt.xlabel('Original Loan Amount ($)')\n",
    "plt.show()\n"
   ]
  },
  {
   "cell_type": "markdown",
   "metadata": {},
   "source": [
    "This looks bimodal. "
   ]
  },
  {
   "cell_type": "code",
   "execution_count": 368,
   "metadata": {},
   "outputs": [
    {
     "data": {
      "image/png": "[encoded data removed]",
      "text/plain": [
       "<Figure size 432x288 with 1 Axes>"
      ]
     },
     "metadata": {
      "needs_background": "light"
     },
     "output_type": "display_data"
    }
   ],
   "source": [
    "# Now Borrower's rate\n",
    "plt.hist(data = df_loan, x = 'BorrowerAPR', bins = 50);"
   ]
  },
  {
   "cell_type": "markdown",
   "metadata": {},
   "source": [
    "This is bimodal,"
   ]
  },
  {
   "cell_type": "code",
   "execution_count": 369,
   "metadata": {},
   "outputs": [
    {
     "data": {
      "image/png": "[encoded data removed]",
      "text/plain": [
       "<Figure size 432x288 with 1 Axes>"
      ]
     },
     "metadata": {
      "needs_background": "light"
     },
     "output_type": "display_data"
    }
   ],
   "source": [
    "# now recommendations,\n",
    "sb.countplot(data = df_loan, x = 'ListingCategory (numeric)', color = base_color);"
   ]
  },
  {
   "cell_type": "code",
   "execution_count": 370,
   "metadata": {},
   "outputs": [
    {
     "data": {
      "text/plain": [
       "0     16486\n",
       "1     57945\n",
       "2      7385\n",
       "3      6935\n",
       "4      2274\n",
       "5       689\n",
       "6      2544\n",
       "7     10309\n",
       "8       198\n",
       "9        84\n",
       "10       90\n",
       "11      213\n",
       "12       57\n",
       "13     1939\n",
       "14      870\n",
       "15     1505\n",
       "16      304\n",
       "17       52\n",
       "18      881\n",
       "19      760\n",
       "20      768\n",
       "Name: ListingCategory (numeric), dtype: int64"
      ]
     },
     "execution_count": 370,
     "metadata": {},
     "output_type": "execute_result"
    }
   ],
   "source": [
    "df_loan['ListingCategory (numeric)'].value_counts(sort =  False)"
   ]
  },
  {
   "cell_type": "markdown",
   "metadata": {},
   "source": [
    "Category details are as follows.\n",
    ">0 - Not Available, 1 - Debt Consolidation, 2 - Home Improvement, 3 - Business, 4 - Personal Loan, 5 - Student Use, 6 - Auto, 7- Other, 8 - Baby&Adoption, 9 - Boat, 10 - Cosmetic Procedure, 11 - Engagement Ring, 12 - Green Loans, 13 - Household Expenses, 14 - Large Purchases, 15 - Medical/Dental, 16 - Motorcycle, 17 - RV, 18 - Taxes, 19 - Vacation, 20 - Wedding Loans"
   ]
  },
  {
   "cell_type": "markdown",
   "metadata": {},
   "source": [
    "Debt consolidation is the most frequent category."
   ]
  },
  {
   "cell_type": "markdown",
   "metadata": {},
   "source": [
    "> Make sure that, after every plot or related series of plots, that you\n",
    "include a Markdown cell with comments about what you observed, and what\n",
    "you plan on investigating next."
   ]
  },
  {
   "cell_type": "code",
   "execution_count": null,
   "metadata": {},
   "outputs": [],
   "source": []
  },
  {
   "cell_type": "markdown",
   "metadata": {},
   "source": [
    "### Discuss the distribution(s) of your variable(s) of interest. Were there any unusual points? Did you need to perform any transformations?\n",
    "\n",
    "Original loan amounts had a large range of values, and I looked at the data using a log transform. Under the transformation, it looks \n",
    "\n",
    "### Of the features you investigated, were there any unusual distributions? Did you perform any operations on the data to tidy, adjust, or change the form of the data? If so, why did you do this?\n",
    "\n",
    "Changed data of "
   ]
  },
  {
   "cell_type": "markdown",
   "metadata": {},
   "source": [
    "## Bivariate Exploration\n",
    "\n",
    "First off, I'd like to look at the pairwise correlations in the data."
   ]
  },
  {
   "cell_type": "code",
   "execution_count": 371,
   "metadata": {},
   "outputs": [],
   "source": [
    "numeric_vars = ['BorrowerAPR','CreditScoreRangeLower', 'StatedMonthlyIncome', 'DebtToIncomeRatio', 'CurrentDelinquencies', 'AmountDelinquent', 'PublicRecordsLast12Months', \n",
    "                'LoanOriginalAmount']\n",
    "categoric_vars = ['LoanStatus', 'ProsperRating (numeric)', 'EmploymentStatus','Occupation', 'IsBorrowerHomeowner', 'IncomeRange', 'ListingCategory (numeric)']"
   ]
  },
  {
   "cell_type": "code",
   "execution_count": 372,
   "metadata": {},
   "outputs": [
    {
     "data": {
      "image/png": "[encoded data removed]",
      "text/plain": [
       "<Figure size 576x360 with 2 Axes>"
      ]
     },
     "metadata": {
      "needs_background": "light"
     },
     "output_type": "display_data"
    }
   ],
   "source": [
    "plt.figure(figsize = [8,5])\n",
    "sb.heatmap(df_loan[numeric_vars].corr(), annot= True, fmt = '.3f', cmap = 'vlag_r', center = 0)\n",
    "plt.show()"
   ]
  },
  {
   "cell_type": "markdown",
   "metadata": {},
   "source": [
    "Surprisingly, borrower APR has strong negative correlation with credits score. \n",
    "APR has also strong negative correlation with original loan amount, which make sence as the amount goes lower, the actual amount of interest goes higher as well."
   ]
  },
  {
   "cell_type": "code",
   "execution_count": null,
   "metadata": {},
   "outputs": [],
   "source": []
  },
  {
   "cell_type": "code",
   "execution_count": 373,
   "metadata": {},
   "outputs": [],
   "source": [
    "numeric_vars = ['BorrowerAPR','CreditScoreRangeLower', 'StatedMonthlyIncome', 'DebtToIncomeRatio', 'CurrentDelinquencies', 'AmountDelinquent', 'PublicRecordsLast12Months', \n",
    "                'LoanOriginalAmount']\n",
    "categoric_vars = ['LoanStatus', 'ProsperRating (numeric)', 'EmploymentStatus', 'IsBorrowerHomeowner', 'IncomeRange', 'ListingCategory (numeric)']"
   ]
  },
  {
   "cell_type": "code",
   "execution_count": 377,
   "metadata": {},
   "outputs": [
    {
     "name": "stderr",
     "output_type": "stream",
     "text": [
      "C:\\Users\\Kaori\\anaconda3\\lib\\site-packages\\seaborn\\axisgrid.py:1259: UserWarning: The `size` parameter has been renamed to `height`; please update your code.\n",
      "  warnings.warn(UserWarning(msg))\n"
     ]
    },
    {
     "data": {
      "text/plain": [
       "<seaborn.axisgrid.PairGrid at 0x1d1935a64c8>"
      ]
     },
     "execution_count": 377,
     "metadata": {},
     "output_type": "execute_result"
    },
    {
     "data": {
      "image/png": "[encoded data removed]",
      "text/plain": [
       "<Figure size 1620x1080 with 30 Axes>"
      ]
     },
     "metadata": {
      "needs_background": "light"
     },
     "output_type": "display_data"
    }
   ],
   "source": [
    "# plot matrix of features of my interest : sample 500 loans so that plots are clearer and they render faster\n",
    "df_loan_samp500 = df_loan.sample(500)\n",
    "\n",
    "g = sb.PairGrid(data = df_loan_samp500, vars = ['BorrowerAPR','CreditScoreRangeLower', 'StatedMonthlyIncome', 'DebtToIncomeRatio',  \n",
    "                'LoanOriginalAmount'], size = 3, aspect = 1.5)\n",
    "g = g.map_diag(plt.hist, bins = 20);\n",
    "g.map_offdiag(plt.scatter)"
   ]
  },
  {
   "cell_type": "markdown",
   "metadata": {},
   "source": [
    "As expected, the 'x', 'y', and 'z' dimensions are all highly correlated with one another, and all of them are also highly correlated with carat. Since carat is a measure of diamond size, it's not too surprising that the overall trend between carat and the three individual dimensions appears polynomial. In addition, since all the diamonds are round-cut, it makes sense that the 'x', 'y', and 'z' sizes would all move proportionally together.\n",
    "\n",
    "Surprisingly, the correlation coefficient between price and carat is very high, despite the fact that price has such a large range of values. This will be worth extra exploration in this section. Depth and table don't have strong correlations with any other numeric variables in the dataset, and we see the moderate negative correlation hypothesized in the previous section. I won't perform any further analyses with these variables since they don't look like they'll be of much further interest.\n",
    "\n",
    "Let's move on to looking at how price and carat weight correlate with the categorical variables."
   ]
  },
  {
   "cell_type": "code",
   "execution_count": 375,
   "metadata": {},
   "outputs": [],
   "source": [
    "n_loan_vars = ['BorrowerAPR', 'LoanOriginalAmount', 'DebtToIncomeRatio']\n",
    "n_fin_vars = ['CreditScoreRangeLower', 'StatedMonthlyIncome', ]\n",
    "n_add_vars = ['CurrentDelinquencies','AmountDelinquent', 'PublicRecordsLast12Months']\n",
    "c_loan_vars = ['LoanStatus', 'ListingCategory (numeric)']\n",
    "c_fin_vars = ['ProsperRating (numeric)', 'EmploymentStatus', 'IsBorrowerHomeowner', 'IncomeRange']"
   ]
  },
  {
   "cell_type": "code",
   "execution_count": null,
   "metadata": {},
   "outputs": [],
   "source": [
    "def boxgrid(x, y, **kwargs):\n",
    "    default_color = sb.color_palette()[0]\n",
    "    sb.boxplot(x, y, color = default_color)\n",
    "\n",
    "plt.figure(figsize = [30, 15])\n",
    "g = sb.PairGrid(data = df_loan, y_vars = n_loan_vars, x_vars = ['ListingCategory (numeric)', 'ProsperRating (numeric)', 'EmploymentStatus'],\n",
    "                height = 5, aspect = 1.5)\n",
    "\n",
    "g.map(boxgrid)\n",
    "plt.show();"
   ]
  },
  {
   "cell_type": "markdown",
   "metadata": {},
   "source": [
    "Firstly, category 1(Debt Consolidation),3(Business) and 14(Large Purchases)have higher median and Q3 of loan amount compared to others. \n",
    "Also, 10(Cosmetic Procedure) and 13(Household Expenses) have slightly higher APR. And Q1 and Q4 of 8-20 are all surprisingly matching. 0-7 has spread wider than 8-20. Debt to income ratio has a lot of higher outliers. \n",
    "\n",
    "Secondly, in terms of Prosper rating, lower rate tends to have more higher outlier in debt to income ratio. And, Prosper rating looks positive correlation with Prosper rating, although 5-7 doesn't show significant difference. On the other hand, it shows negative correlation with APR.\n",
    "\n",
    "Thirdly, not employed people has high debt to income ratio, which is understandable. And, employed people has higher amount of original loan compared to the others. In terms of the loan amount, employed people has the highest 4Q, but the median is around the same with self-employed people. Not employed and retired people has low rate.　Also, not employed people has slightly higher APR rate."
   ]
  },
  {
   "cell_type": "code",
   "execution_count": null,
   "metadata": {},
   "outputs": [],
   "source": [
    "# plot 2  \n",
    "\n",
    "plt.figure(figsize = [20, 10])\n",
    "g = sb.PairGrid(data = df_loan, y_vars = n_loan_vars, x_vars = ['IsBorrowerHomeowner', 'IncomeRange'],\n",
    "                height = 5, aspect = 1.5);\n",
    "\n",
    "g.map(boxgrid)\n",
    "plt.xticks(rotation = 90)\n",
    "plt.show();"
   ]
  },
  {
   "cell_type": "markdown",
   "metadata": {},
   "source": [
    "Borrowers who own home has higher original loan amount and APR is slightly lower. In terms of income range, if you have higher income range, your origianl loan amount tends to be highr as well. On the other hand, APR is lower if you have higher income.\n"
   ]
  },
  {
   "cell_type": "markdown",
   "metadata": {},
   "source": [
    "Finally, let's look at relationships between the categorical features."
   ]
  },
  {
   "cell_type": "code",
   "execution_count": 354,
   "metadata": {},
   "outputs": [
    {
     "data": {
      "text/plain": [
       "<matplotlib.legend.Legend at 0x1d18ab1c888>"
      ]
     },
     "execution_count": 354,
     "metadata": {},
     "output_type": "execute_result"
    },
    {
     "data": {
      "image/png": "[encoded data removed]",
      "text/plain": [
       "<Figure size 1800x1800 with 8 Axes>"
      ]
     },
     "metadata": {
      "needs_background": "light"
     },
     "output_type": "display_data"
    }
   ],
   "source": [
    "#I selected a few combination based on my interest.\n",
    "\n",
    "plt.figure (figsize = [25,25])\n",
    "\n",
    "#subplot 1 :EmploymentStatus vs LoanStatus \n",
    "ax = plt.subplot(4, 2, 1)\n",
    "sb.countplot(data = df_loan, x = 'LoanStatus', hue = 'EmploymentStatus', palette = 'Greens')\n",
    "ax.legend(ncol = 2) # re-arrange legend to reduce overlapping\n",
    "\n",
    "\n",
    "#subplot 2 :EmploymentStatus vs ProsperRating (numeric)\n",
    "ax = plt.subplot(4, 2, 2)\n",
    "sb.countplot(data = df_loan, x = 'ProsperRating (numeric)', hue = 'EmploymentStatus', palette = 'Greens')\n",
    "ax.legend(ncol = 2)\n",
    "\n",
    "#subplot 3:EmploymentStatus vs  IsBorrowerHomeowner\n",
    "ax = plt.subplot(4, 2, 3)\n",
    "sb.countplot(data = df_loan, x = 'IsBorrowerHomeowner', hue = 'EmploymentStatus', palette = 'Greens')\n",
    "ax.legend(ncol = 2)\n",
    "\n",
    "#subplot 4 :EmploymentStatus vs  IncomeRange\n",
    "ax = plt.subplot(4, 2, 4)\n",
    "sb.countplot(data = df_loan, x = 'IncomeRange', hue = 'EmploymentStatus', palette = 'Greens', order = order_inc)\n",
    "ax.legend(ncol = 2)\n",
    "\n",
    "#subplot 5 :ProsperRating (numeric) vs  LoanStatus\n",
    "ax = plt.subplot(4, 2, 5)\n",
    "sb.countplot(data = df_loan, x = 'ProsperRating (numeric)', hue = 'LoanStatus', palette = 'Blues')\n",
    "ax.legend(ncol = 2)\n",
    "\n",
    "#subplot 6 :ProsperRating (numeric) vs  IsBorrowerHomeowner\n",
    "ax = plt.subplot(4, 2, 6)\n",
    "sb.countplot(data = df_loan, x = 'ProsperRating (numeric)', hue = 'IsBorrowerHomeowner', palette = 'Blues')\n",
    "ax.legend(ncol = 2)\n",
    "\n",
    "#subplot 7 :ProsperRating (numeric) vs  IncomeRange\n",
    "ax = plt.subplot(4, 2, 7)\n",
    "sb.countplot(data = df_loan, x = 'ProsperRating (numeric)', hue = 'IncomeRange', palette = 'Blues', hue_order = order_inc)\n",
    "ax.legend(ncol = 2)\n",
    "\n",
    "#subplot 8 :ProsperRating (numeric) vs ListingCategory (numeric) \n",
    "ax = plt.subplot(4, 2, 8)\n",
    "sb.countplot(data = df_loan, x = 'ListingCategory (numeric)', hue = 'ProsperRating (numeric)', palette = 'Blues')\n",
    "ax.legend(ncol = 2)\n"
   ]
  },
  {
   "cell_type": "markdown",
   "metadata": {},
   "source": [
    "Employment status has interaction with loan status. It looks there are less employed people in case of Defaulted and Charged off.\n",
    "In terms of prosper rating and employment status, there are less not-employed people in Prosper rating of 6 and 7.\n",
    "There is not much interaction between home ownership and employment status.\n",
    "There is week interaction between income range and employment status. there is less not employed people in income range of over $75,000.\n",
    "\n",
    "There is strong interaction between Prosper rating and loan status. Higher ratings has much less defaulted and charged off.\n",
    "\n",
    "For prosper rating and home ownership shows strong interaction. \n",
    "Higher ratings has more people owning homes.\n",
    "Also, Prosper rating and income range has strong interaction.\n",
    "While, there are people who has $ 100,000+ income but rating is 1, there are much less people with rating 7, whose income is lower than $49,999.\n",
    "Listing category and rating has little interaction.\n"
   ]
  },
  {
   "cell_type": "markdown",
   "metadata": {},
   "source": [
    "With the preliminary look at bivariate relationships out of the way, I want to dig into some of the relationships with APR rate."
   ]
  },
  {
   "cell_type": "code",
   "execution_count": null,
   "metadata": {},
   "outputs": [],
   "source": [
    "# scatter plot of APR rate vs. carat, with log transform on price axis\n",
    "\n",
    "plt.figure(figsize = [8, 6])\n",
    "plt.scatter(data = df_loan, x = 'BorrowerAPR', y = 'BorrowerAPR', alpha = 1/10)\n",
    "plt.xlim([0, 3.5])\n",
    "plt.xlabel('Carat')\n",
    "plt.yscale('log')\n",
    "plt.yticks([500, 1e3, 2e3, 5e3, 1e4, 2e4], [500, '1k', '2k', '5k', '10k', '20k'])\n",
    "plt.ylabel('Price ($)')\n",
    "plt.show()"
   ]
  },
  {
   "cell_type": "code",
   "execution_count": null,
   "metadata": {},
   "outputs": [],
   "source": []
  },
  {
   "cell_type": "code",
   "execution_count": null,
   "metadata": {},
   "outputs": [],
   "source": []
  },
  {
   "cell_type": "code",
   "execution_count": null,
   "metadata": {},
   "outputs": [],
   "source": []
  },
  {
   "cell_type": "code",
   "execution_count": null,
   "metadata": {},
   "outputs": [],
   "source": []
  },
  {
   "cell_type": "code",
   "execution_count": null,
   "metadata": {},
   "outputs": [],
   "source": []
  },
  {
   "cell_type": "code",
   "execution_count": null,
   "metadata": {},
   "outputs": [],
   "source": []
  },
  {
   "cell_type": "code",
   "execution_count": null,
   "metadata": {},
   "outputs": [],
   "source": []
  },
  {
   "cell_type": "markdown",
   "metadata": {},
   "source": [
    "### Talk about some of the relationships you observed in this part of the investigation. How did the feature(s) of interest vary with other features in the dataset?\n",
    "\n",
    "> Your answer here!\n",
    "\n",
    "### Did you observe any interesting relationships between the other features (not the main feature(s) of interest)?\n",
    "\n",
    "> Your answer here!"
   ]
  },
  {
   "cell_type": "markdown",
   "metadata": {},
   "source": [
    "## Multivariate Exploration\n",
    "\n",
    "> Create plots of three or more variables to investigate your data even\n",
    "further. Make sure that your investigations are justified, and follow from\n",
    "your work in the previous sections."
   ]
  },
  {
   "cell_type": "code",
   "execution_count": null,
   "metadata": {},
   "outputs": [],
   "source": []
  },
  {
   "cell_type": "markdown",
   "metadata": {},
   "source": [
    "### Talk about some of the relationships you observed in this part of the investigation. Were there features that strengthened each other in terms of looking at your feature(s) of interest?\n",
    "\n",
    "> Your answer here!\n",
    "\n",
    "### Were there any interesting or surprising interactions between features?\n",
    "\n",
    "> Your answer here!"
   ]
  },
  {
   "cell_type": "markdown",
   "metadata": {},
   "source": [
    "> At the end of your report, make sure that you export the notebook as an\n",
    "html file from the `File > Download as... > HTML` menu. Make sure you keep\n",
    "track of where the exported file goes, so you can put it in the same folder\n",
    "as this notebook for project submission. Also, make sure you remove all of\n",
    "the quote-formatted guide notes like this one before you finish your report!"
   ]
  },
  {
   "cell_type": "code",
   "execution_count": null,
   "metadata": {},
   "outputs": [],
   "source": []
  }
 ],
 "metadata": {
  "kernelspec": {
   "display_name": "Python 3",
   "language": "python",
   "name": "python3"
  },
  "language_info": {
   "codemirror_mode": {
    "name": "ipython",
    "version": 3
   },
   "file_extension": ".py",
   "mimetype": "text/x-python",
   "name": "python",
   "nbconvert_exporter": "python",
   "pygments_lexer": "ipython3",
   "version": "3.7.7"
  }
 },
 "nbformat": 4,
 "nbformat_minor": 4
}
